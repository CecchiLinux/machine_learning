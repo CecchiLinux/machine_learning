{
 "cells": [
  {
   "cell_type": "markdown",
   "metadata": {},
   "source": [
    "# Traffic Sign Recognition\n",
    "\n",
    "\n",
    "Progetto del corso di Machine Learning AA 2017/2018\n",
    "\n",
    "Corso di Laurea Magistrale in Informatica, Università di Bologna\n",
    "\n",
    "- Ceccolini Enrico (matricola )\n",
    "- Valguarnera Enrico (800115)\n"
   ]
  },
  {
   "cell_type": "markdown",
   "metadata": {},
   "source": [
    "Il progetto consiste nell'analisi ed implementazione di alcune delle soluzioni presentate nel paper *Traffic Sign Recognition with Multi-Scale Convolutional Networks* redatto da Pierre Sermanet e Yann LeCun (reperibile [qui]('http://yann.lecun.com/exdb/publis/pdf/sermanet-ijcnn-11.pdf')). Tale studio racchiude le tecniche principali avanzate da diversi team di ricercatori (tra cui il loro) durante le competizioni IJCNN, sfide che avevano come obiettivo la realizzazione del miglior classificatore di segnali stradali (single-image, multi-class classification problem) partendo dal dataset GTSRB, dataset che impareremo a conoscere.\n",
    "\n",
    "Le soluzioni proposte da Sermanet e LeCun sono state implementate usando la libreria open-source EBLearn C++, sviluppata direttamente dagli autori del paper. Le nostre soluzioni fanno uso della libreria Keras per la definizione delle reti e del linguaggio Python. \n",
    "\n",
    "In particolare si è cercato di aderire alle tecniche proposte dal paper di: aumento del dataset, normalizzazione del dataset e di definizione delle reti neurali, proponendo alcune modifiche in ogni fase in modo da ottenere modelli più performanti.\n",
    "\n",
    "Per quanto riguarda l'implementazione si è fatto riferimento a [questo](http://jokla.me/robotics/traffic-signs/) progetto, che presenta il nostro stesso obiettivo ma utilizza la libreri TensorFlow. "
   ]
  },
  {
   "cell_type": "markdown",
   "metadata": {},
   "source": [
    "# 1) Il Dataset GTSRB\n",
    "\n",
    "\n",
    "Per uniformità al paper è stato scelto di utilizzare la versione del dataset indicata per l'*online competition stage*, non l'ultima presentata dall'istituto che si occupa delle competizioni. E' possibile ottenere il dataset [qui]('http://benchmark.ini.rub.de/index.php?section=gtsrb&subsection=dataset#Downloads').\n",
    "\n",
    "Questa contiene 39209 immagini in totale, divise tra tra training-set (26,640 immagini) e test-set (12,569 immagini). Ogni immagine contiene un singolo segnale stradale appartenente ad una delle 43 classi presenti. Le dimensioni delle immagini variano da un minimo di 15x15 ad un massimo di 250x250 pixel.\n",
    "\n",
    "Le immagini contenute nel dataset presentano le caratteristiche riscontrabili nel mondo reale dovute alle condizioni meteo, alla camera posta sul veicolo e alle condizioni fisiche del segnale stradale.\n",
    "\n",
    "Le difficoltà riscontrate sono:\n",
    "- diverse inquadrature,\n",
    "- condizioni di luce (irradiazione, saturazione e basso contrasto),\n",
    "- sfocature dovute al movimento del veicolo,\n",
    "- danni fisici,\n",
    "- graffiti e adesivi,\n",
    "- bassa risoluzione. \n",
    "\n",
    "Per le suddette problematiche il dataset viene considerato rappresentativo per il problema."
   ]
  },
  {
   "cell_type": "markdown",
   "metadata": {},
   "source": [
    "#### Load del dataset e visualizzazione del dataset"
   ]
  },
  {
   "cell_type": "markdown",
   "metadata": {},
   "source": [
    "Di seguito il plot di 43 immagini (una per classe) raffiguranti campioni scelti in modo casuale dal dataset."
   ]
  },
  {
   "cell_type": "code",
   "execution_count": 1,
   "metadata": {},
   "outputs": [
    {
     "data": {
      "text/plain": [
       "<matplotlib.figure.Figure at 0x7f629431bb70>"
      ]
     },
     "metadata": {},
     "output_type": "display_data"
    }
   ],
   "source": [
    "import my_mod_load as load\n",
    "train, valid, test = load.load_train_valid_test()\n",
    "\n",
    "X_train, y_train = train['features'], train['labels']\n",
    "X_valid, y_valid = valid['features'], valid['labels']\n",
    "X_test, y_test = test['features'], test['labels']\n",
    "load.display_sample_images(X_train, y_train)"
   ]
  },
  {
   "cell_type": "markdown",
   "metadata": {},
   "source": [
    "#### Istogramma rappresentante la distribuzione di campioni per classe\n",
    "\n",
    "Come è ben vidibile dal grafico, la quantità di campioni per classe è molto sbilanciata. Il paper non interviene su questa situazione con tecniche di bilanciamento tramite la creazione di nuovi campioni ottenendo comunque un' ottima accuratezza sul test-set."
   ]
  },
  {
   "cell_type": "code",
   "execution_count": 2,
   "metadata": {},
   "outputs": [
    {
     "data": {
      "image/png": "[encoded data removed]",
      "text/plain": [
       "<matplotlib.figure.Figure at 0x7f629a6c1860>"
      ]
     },
     "metadata": {},
     "output_type": "display_data"
    }
   ],
   "source": [
    "load.display_class_distribution(y_train)"
   ]
  },
  {
   "cell_type": "markdown",
   "metadata": {},
   "source": [
    "# 2) Data Preparation\n",
    "\n",
    "## 2.1) Valid-set\n",
    "\n",
    "Come evdenzia il paper, la selezione delle immagini che popoleranno il validation dataset è cruciale in GTSRB. Mischiare le immagini e selezionare un sottoinsieme porterebbe ad avere un validation dataset troppo simile al training dataset e all'impossibilità di ottenere valori di performance del modello accurati.\n",
    "\n",
    "Il motivo è da trovare nella tecnica utilizzata per ottenere le immagini del dataset. Le immagini sono state estratte da tracce video. Per ogni traccia il segnale stradale presente è stato catturato circa 30 volte con aumento progressivo della risoluzione a mano a mano che la videocamera si avvicinava al segnale.\n",
    "\n",
    "Per la definizione del validation set si è estratta in maniera casuale una traccia per ognuna delle 43 classi, in modo da non avere immagini dello stesso identico segnale stradale nei diversi insiemi."
   ]
  },
  {
   "cell_type": "code",
   "execution_count": 3,
   "metadata": {},
   "outputs": [
    {
     "name": "stdout",
     "output_type": "stream",
     "text": [
      "Dimensione del training-set: 25350\n",
      "Dimensione del valid-set: 1290\n"
     ]
    }
   ],
   "source": [
    "print(\"Dimensione del training-set: {}\".format(len(X_train)))\n",
    "print(\"Dimensione del valid-set: {}\".format(len(X_valid)))"
   ]
  },
  {
   "cell_type": "markdown",
   "metadata": {},
   "source": [
    "## 2.2) Pre-processing\n",
    "\n",
    "Per la fase di pre-processing è stata definita una collezione di funzioni, presente nel file my_mod_manipulate_image.py, utile per la normalizzazione e l'aumento dei dati."
   ]
  },
  {
   "cell_type": "markdown",
   "metadata": {},
   "source": [
    "### 2.2.1) Normalization\n",
    "\n",
    "Per ottenere un modello con performance elevate Pierre Sermanet e Yann LeCun consigliano di:\n",
    "- ridimensionare le immagini alla dimensione 32x32\n",
    "- convertire lo spazio di colori da RGB a YUV\n",
    "- applicare una normalizzazione globale sul canale Y\n",
    "- apllicare una normalizzazione locale sul canale Y\n",
    "- lasciare inalterati i canali U e V\n",
    "\n",
    "Al termine del paper si legge che usare i canali colore non aumenta in modo considerevole l'accuratezza del modello generato. Verificheremo questa affermazione effettuando dei test su dati non aumentati per poi decidere se procedere in grayscale o meno. L'impatto sulla dimensione del dataset è notevole e risulterebbe utile per per effettuare i training sulla nostra scheda video che possiede solamente 2 GB di memoria. Il Dataset in grayscale occupa 100MB contro i 327MB a colori. In ottica di quintuplicare i dati del training-set potremmo non avere abbastanza memoria disponibile.\n",
    "\n",
    "Di seguito la funzione da noi utilizzata per la manipolazione di una singola immagine (le immagini sono state ridimensionate durante il caricamento del dataset). In questa versione si escludono i colori."
   ]
  },
  {
   "cell_type": "markdown",
   "metadata": {},
   "source": [
    "``` Python\n",
    "def normalize_img(img):\n",
    "    # converte l'immagine in YUV mantenedo esclusivamente il canale Y (luminanza)\n",
    "    img_y = cv2.cvtColor(img, (cv2.COLOR_BGR2YUV))[:,:,0]    \n",
    "    # Normalizzazione globale\n",
    "    # distribuisce la luminosità nell'istogramma incrementando il contrasto globale\n",
    "    img_y = cv2.equalizeHist(img_y)     \n",
    "    # rappresenta i valori in un range da 0 a 1\n",
    "    img_y = (img_y / 255.).astype(np.float32)     \n",
    "    # Equalizzazione locale\n",
    "    # esegue la Contrast Limited Adaptive Histogram Equalization\n",
    "    # l'obbiettivo è quello di enfatizzare gli angoli dei segnali stradali\n",
    "    img_y = (exposure.equalize_adapthist(img_y) - 0.5)     \n",
    "    img_y = img_y.reshape(img_y.shape + (1,))\n",
    "\n",
    "    return img_y\n",
    "```"
   ]
  },
  {
   "cell_type": "markdown",
   "metadata": {},
   "source": [
    "#### Visualizzazione di un'immagine originale a confronto con una normalizzata\n"
   ]
  },
  {
   "cell_type": "code",
   "execution_count": 4,
   "metadata": {},
   "outputs": [
    {
     "name": "stderr",
     "output_type": "stream",
     "text": [
      "Using TensorFlow backend.\n"
     ]
    },
    {
     "data": {
      "image/png": "[encoded data removed]",
      "text/plain": [
       "<matplotlib.figure.Figure at 0x7f629431b5f8>"
      ]
     },
     "metadata": {},
     "output_type": "display_data"
    }
   ],
   "source": [
    "import plot_functions as pltfun\n",
    "pltfun.original_vs_normalized(X_train[29])"
   ]
  },
  {
   "cell_type": "markdown",
   "metadata": {},
   "source": [
    "### 2.2.2) Jittering\n",
    "---\n",
    "Per ottenere un modello con performance elevate Pierre Sermanet e Yann LeCun consigliano di aumentare i campioni del training-set andando a generare immagini da quelle già presenti.\n",
    "Le trasformazioni da applicare devono generare segnali stradali plausibili, cioè che differiscano dagli originali per inquadratura della camera posta sull'eventuale veicolo.\n",
    "\n",
    "Il paper consiglia di perturbare le immagini originali in modo casuale sulle seguenti proprietà con i relativi range:\n",
    "- posizione ([-2, 2] pixels)\n",
    "- scala ([.9, 1.1] ratio)\n",
    "- rotazione ([-15, 15] gradi)\n",
    "\n",
    "Per l'aumento dei dati è stata utilizzata la libreria Keras. In particolare tramite il modulo ImageDataGeneration. Nel ciclo for sottostante è riportata la generazione di un nuovo insieme di immagini delle stesse dimensioni del training set originario.\n"
   ]
  },
  {
   "cell_type": "markdown",
   "metadata": {},
   "source": [
    "```Python\n",
    "datagen = ImageDataGenerator(\n",
    "        # perturbed in position ([-2, 2] pixels)\n",
    "        width_shift_range=0.07, # for images 32x32\n",
    "        height_shift_range=0.07,    \n",
    "        # perturbed in scale ([.9, 1.1] ratio)\n",
    "        # si è deciso di applicare uno zoom\n",
    "        zoom_range=0.15,\n",
    "        # perturbed in rotation ([-15, 15] degrees)\n",
    "        rotation_range=15,\n",
    "        fill_mode='nearest')\n",
    "\n",
    "for X_batch, y_batch in datagen.flow(X_train, y_train, batch_size=len(X_train)):\n",
    "    X_train_aug = X_batch.astype('uint8')\n",
    "    y_train_aug = y_batch\n",
    "    break\n",
    "\n",
    "```"
   ]
  },
  {
   "cell_type": "markdown",
   "metadata": {},
   "source": [
    "### 2.2.3 Blurring\n",
    "---\n",
    "Per allenare il modello a riconoscere anche le immagini che presentano l'effetto di sfocatura dovuto al movimento del veicolo, si è deciso di aumentare i campioni del training-set aggiungendo un insieme di immagini corrispondente all'insieme originale al quale è stato applicato un blur.\n",
    "\n",
    "E' stato utilizzato un kernel che calcola il valore medio e lo trasferisce in una particolare direzione. E' possibile verificare la tecnica [qui](https://www.packtpub.com/mapt/book/application_development/9781785283932/2/ch02lvl1sec21/motion-blur).\n",
    "\n",
    "#### motion blur kernel utilizzato = \n",
    "\\begin{bmatrix}\n",
    " 0 & 0 & 0 \\\\\n",
    " 1/4 & 1/4 & 1/4 \\\\\n",
    " 0 & 0 & 0 \\\\\n",
    "\\end{bmatrix}"
   ]
  },
  {
   "cell_type": "markdown",
   "metadata": {},
   "source": [
    "```Python\n",
    "def motion_blur(img):\n",
    "    size = 4\n",
    "    # generating the kernel\n",
    "    kernel_motion_blur = np.zeros((size, size))\n",
    "    kernel_motion_blur[int((size-1)/2), :] = np.ones(size)\n",
    "    kernel_motion_blur = kernel_motion_blur / size\n",
    "    img_bl = cv2.filter2D(img, -1, kernel_motion_blur)\n",
    "\n",
    "    return img_bl\n",
    "```"
   ]
  },
  {
   "cell_type": "markdown",
   "metadata": {},
   "source": [
    "#### Visualizzazione di un'immagine originale a confronto con una sfocata e successivamente normalizzata."
   ]
  },
  {
   "cell_type": "code",
   "execution_count": 5,
   "metadata": {},
   "outputs": [
    {
     "data": {
      "image/png": "[encoded data removed]",
      "text/plain": [
       "<matplotlib.figure.Figure at 0x7f6244ee6908>"
      ]
     },
     "metadata": {},
     "output_type": "display_data"
    }
   ],
   "source": [
    "pltfun.orginal_vs_blurred(X_train[29])"
   ]
  },
  {
   "cell_type": "markdown",
   "metadata": {},
   "source": [
    "#### Load del dataset manipolato\n",
    "\n",
    "E' stato applicato il jittering cinque volte e il blurring una volta, ottenendo un fattore moltiplicativo x6."
   ]
  },
  {
   "cell_type": "code",
   "execution_count": 6,
   "metadata": {},
   "outputs": [
    {
     "name": "stdout",
     "output_type": "stream",
     "text": [
      "Dimensione del training-set: 152100\n"
     ]
    },
    {
     "data": {
      "image/png": "[encoded data removed]",
      "text/plain": [
       "<matplotlib.figure.Figure at 0x7f6244e86358>"
      ]
     },
     "metadata": {},
     "output_type": "display_data"
    }
   ],
   "source": [
    "dirname = '2018-02-06_1645_online_augm_blur'\n",
    "\n",
    "X_train_m, y_train_m = load.load_manipulated_train(dirname)\n",
    "X_valid_m, y_valid_m = load.load_normalized_valid(dirname)\n",
    "X_test_m, y_test_m = load.load_normalized_test(dirname)\n",
    "print(\"Dimensione del training-set: {}\".format(len(X_train_m)))\n",
    "\n",
    "load.display_class_distribution(y_train_m)"
   ]
  },
  {
   "cell_type": "markdown",
   "metadata": {},
   "source": [
    "## 3) Architecture\n",
    "\n",
    "Il paper presenta diverse architetture. La principale (quella risultata più prestante) non corrisponde ad una classica rete convoluzionale dove i vari livelli si susseguono in maniera puramente sequenziale. Come si può notare dalla figura sotto, sono presenti dei collegamenti che saltano dei livelli, in modo da dare in pasto al classificatore tutti gli output dei vari stadi (con stadio si intende la sequenza: convoluzione, attivazione, pooling). Questo permette al classificatore di utilizzare caratteristiche globali (stadio 2, forme e strutture) e locali (stadio 1, dettagli più precisi).\n",
    "\n",
    "\n",
    "Reti con questa architettura vengono definite ConvNet MS (Multi Scale)."
   ]
  },
  {
   "cell_type": "markdown",
   "metadata": {},
   "source": [
    "![Rappresentazione visuale della rete](images/Figure_net.jpg)"
   ]
  },
  {
   "cell_type": "markdown",
   "metadata": {},
   "source": [
    "#### La nostra implementazione della ConvNet MS"
   ]
  },
  {
   "cell_type": "markdown",
   "metadata": {},
   "source": [
    "```Python\n",
    "from keras.layers import Dense, Dropout, Flatten, merge\n",
    "from keras.layers import Convolution2D, MaxPooling2D\n",
    "from keras.utils import np_utils\n",
    "from keras.layers import Input, Dense\n",
    "from keras.models import Model\n",
    "\n",
    "net_name = \"sol178ML\"\n",
    "features = [108, 108]\n",
    "dense_hidden_units = [100]\n",
    "dropouts = [0.2, 0.2, 0.5]\n",
    "\n",
    "# input image\n",
    "inputs = Input(shape=(32, 32, 1))\n",
    "\n",
    "# Stage 1\n",
    "# --------\n",
    "# Prima convloluzione: 5x5 kernel, 1x1 stride, valid padding, outputs 28x28x108\n",
    "first_layer = Convolution2D(nb_filter = features[0], nb_row = 5, nb_col = 5, border_mode='valid', subsample=(1, 1), activation='relu')(inputs)\n",
    "# Max pooling: 2x2 stride, outputs 14x14x108\n",
    "first_p_layer = MaxPooling2D(pool_size=(2, 2))(first_layer)\n",
    "# Dropout: 0.2\n",
    "drop_1 = Dropout(dropouts[0])(first_p_layer)\n",
    "\n",
    "# Stage 2\n",
    "# ----------\n",
    "# Branch 1: \n",
    "# Max pooling: 2x2 stride, outputs 7x7x108\n",
    "second_p_layer = MaxPooling2D(pool_size=(2, 2))(drop_1)\n",
    "first_input_layer = Flatten()(second_p_layer)\n",
    "# Branch 2: \n",
    "# Seconda convloluzione: 5x5 kernel, 1x1 stride, valid padding, outputs 10x10x108\n",
    "second_layer = Convolution2D(nb_filter = features[1], nb_row = 5, nb_col = 5, border_mode='valid', subsample=(1, 1), activation='relu')(drop_1)\n",
    "# Max pooling: 2x2 stride, outputs 5x5x108\n",
    "third_p_layer = MaxPooling2D(pool_size=(2, 2))(second_layer)\n",
    "# Dropout: 0.2\n",
    "drop_2 = Dropout(dropouts[1])(third_p_layer)\n",
    "second_input_layer = Flatten()(drop_2)\n",
    "\n",
    "# Classifier\n",
    "# ---------\n",
    "# Merge the two branches\n",
    "input_layer = merge([first_input_layer, second_input_layer], mode='concat', concat_axis=1)\n",
    "# Fully connected layer: 100 neurons\n",
    "hidden_layer = Dense(dense_hidden_units[0], activation='sigmoid')(input_layer)\n",
    "# Dropout: 0.5\n",
    "drop = Dropout(dropouts[2])(hidden_layer)\n",
    "# Softmax: 43 neurons\n",
    "predictions = Dense(43, activation='softmax')(drop)\n",
    "model = Model(input=inputs, output=predictions)\n",
    "```"
   ]
  },
  {
   "cell_type": "markdown",
   "metadata": {},
   "source": [
    "Per completare l'architettura si è selezionata la funzione obiettivo, la tecnica di ottimizzazione e la metrica di valutazione.\n",
    "- Come funzione obiettivo si è scelta la Keras Loss function categorical_crossentropy\n",
    "- Come tecnica di ottimizzazione (optimizer) la Nesterov's Accelerated Gradient Descent\n",
    "- Come metrica di valutazione la Keras Metric Accuracy"
   ]
  },
  {
   "cell_type": "markdown",
   "metadata": {},
   "source": [
    "```Python\n",
    "from keras.optimizers import SGD\n",
    "from keras.callbacks import LearningRateScheduler\n",
    "\n",
    "# Stochastic gradient descent optimizer\n",
    "sgd = SGD(lr=LR, decay=1e-6, momentum=0.9, nesterov=True)\n",
    "model.compile(optimizer=sgd,\n",
    "                metrics=['accuracy'],\n",
    "                loss='categorical_crossentropy')\n",
    "history_callback = model.fit(X_train, y_train,\n",
    "          batch_size=BATCH_SIZE,\n",
    "          epochs=EPOCHS,\n",
    "          validation_data=(X_valid, y_valid)\n",
    "```"
   ]
  },
  {
   "cell_type": "markdown",
   "metadata": {},
   "source": [
    "## 4) Experiments\n",
    "\n",
    "Sono state implementate le architetture che sono risultate più performanti. In particolare considereremo le soluzioni: \\#178 (con le varie configurazioni), \\#26 e \\#27.\n",
    "\n",
    "Per verificare che il colore non rappresenta una caratteristica fondamentale sono state effettuate delle prove utilizzando la suluzione \\#178, senza effettuare l'aumento del training-set (No jitter)."
   ]
  },
  {
   "cell_type": "markdown",
   "metadata": {},
   "source": [
    "| Model id | Description (40 ep, 0.01 lr, 0.2-0.2-0.5 dropout)                              | No jitter (test-set acc.) \n",
    "| :------: | :--------------------------------------- | --------------------- | :----------------: | :-----------------------: | :-----------------: |\n",
    "| 178_1  | 2LConvNet **MS** 108-108 + 100-feats CF classifier + **No color** | 96.96%                 |\n",
    "|  178_1   | 2LConvNet **MS** 108-108 + 100-feats CF classifier + **Color** | 97.39%                 |"
   ]
  },
  {
   "cell_type": "markdown",
   "metadata": {},
   "source": [
    "\n",
    "**TODO CONSIDERAZIONE COLORE**\n",
    "\n",
    "Le varie soluzioni sono state testate effettuando l'allenamento sul training-set non aumentato, aumentato (senza blur) e aumentato con blur. Tutti gli esperimenti considerano l'utilizzo del validation-set. Si è scelto di utilizzare inizialmente 40 epoche ed un learning rate di 0.01 e dropout dopo ogni livello.\n",
    "\n",
    "Le tempistiche di allenamento per questa architettura risultano proibitive su sistemi non dotati di una scheda video dedicata al deep learning, per questo motivo si è utilizzato il servizio FloydHub.\n",
    "\n",
    "I risultati sono presenti in tabella.\n"
   ]
  },
  {
   "cell_type": "markdown",
   "metadata": {},
   "source": [
    "| Model id | Description (40 ep, 0.01 lr, 0.2-0.2-0.5 dropout)                              | No jitter (test-set acc.) | Jitter (test-set acc.) | Jitter + blur (test-set acc.) | Risultato paper (jitter only) |\n",
    "| :------: | :--------------------------------------- | --------------------- | :----------------: | :-----------------------: | :-----------------: |\n",
    "|   1     | LeNet-5 | 91.50%                 |       94.40%        |           95.70%           |        x        |\n",
    "| 178_1  | 2LConvNet **MS** 108-108 + 100-feats CF classifier + No color | 96.96%                 |       99.02%        |           99.30%           |        99.17%        |\n",
    "| 178_1  | 2LConvNet **MS** 108-108 + 100-feats CF classifier + **Color** | 97.39%                 |       99.12%       |           x           |        x        |\n",
    "|  178_2   | 2LConvNet **MS** 108-200 + 100-feats CF classifier + No color | 96.84%                 |       99.03%        |           99.22%           |          98.85%          |\n",
    "|  178_3   | 2LConvNet **MS** 108-108 + 100-feats CF classifier + No color | x                     |         x          |           99.23%           |          x          |\n",
    "|    26    | 2LConvNet **MS** 38-64 + 100-feats CF classifier + No color | x                     |         x          |           98.87%           |          98.59%          |\n",
    "|    27    | 26 **MS**                                | 97.00%                 |       99.08%        |           99.23%           |          98.20%          |\n",
    "\n"
   ]
  },
  {
   "cell_type": "markdown",
   "metadata": {},
   "source": [
    "Dalla tabella si nota come l'aumento di dati del training-set presenti un forte impatto sulle performance. Nessun esperimento senza la data augmentation supera la human-performance (calcolata a 98.81%).\n",
    "\n",
    "Aggiungendo i dati ottenuti tramite le tecniche di data augmentation presentata nella sezione 2.2.2 si ottiente una conferma dei risultati presentati nel paper.\n",
    "\n",
    "Aggiungendo i dati ottenuti tramite la tecnica di blur presentata nella sezione 2.2.3 si ottiene sempre un impatto positivo sulle performance. La scelta di rappresentare le sfocature dovute alla ripresa in movimento è considerata vincente."
   ]
  },
  {
   "cell_type": "markdown",
   "metadata": {},
   "source": [
    "Selezionata la soluzione che si è rivelata più performante, si sono effettuati esperimenti su di essa variando gli iperparametri. Si è pensato di diminuire il learning rate e di aumentare il numero di epoche per ottenere in egual modo la convergenza. Impostando il learning rate a 0.001 il processo di apprndimento è risultato troppo lento non rispettando i tempi stabiliti dal nostro servizio di training online.\n",
    "Si è allora aumentato a 0.005 e in 60 epoche si è ottenuto il risultato di 99.33%. \n",
    "\n",
    "| Model id | Description (60 ep, 0.005 lr, 0.2-0.2-0.5 dropout)| Jitter + blur (test acc.) | Risultato paper (jitter only) |\n",
    "| :------: | :--------------------------------------- | --------------------- | :-----------------: |\n",
    "| 178_1  | 2LConvNet **MS** 108-108 + 100-feats CF classifier + No color | 99.33%                  |        99.17%        |"
   ]
  },
  {
   "cell_type": "markdown",
   "metadata": {},
   "source": []
  },
  {
   "cell_type": "code",
   "execution_count": 3,
   "metadata": {},
   "outputs": [
    {
     "data": {
      "image/png": "[encoded data removed]",
      "text/plain": [
       "<matplotlib.figure.Figure at 0x7f0bec3849b0>"
      ]
     },
     "metadata": {},
     "output_type": "display_data"
    }
   ],
   "source": [
    "import plot_functions as pltfun\n",
    "pltfun.learning_curve(file_name=\"2018-02-19_1746_sol178MS_60_0.01_128_0.3_online.log\")"
   ]
  },
  {
   "cell_type": "markdown",
   "metadata": {},
   "source": [
    "## 5) Test sulle nuove immagini\n"
   ]
  },
  {
   "cell_type": "markdown",
   "metadata": {},
   "source": [
    "Per il test su nuove immagini sono stati selezionati dei segnali stradali per lo più situati nella città di Bologna. Le immagini sono state recuperate tramite Google Street View, cercando costituire un insieme rappresentativo per le caretteristiche di lontananza, inquadratura, luminosità, deterioramento e graffiti. "
   ]
  },
  {
   "cell_type": "code",
   "execution_count": null,
   "metadata": {
    "scrolled": true
   },
   "outputs": [
    {
     "name": "stdout",
     "output_type": "stream",
     "text": [
      "Loaded model from disk\n",
      "\n",
      "Testing: \n"
     ]
    }
   ],
   "source": [
    "import plot_functions as pltfun\n",
    "model = './final_models/keras/sol178_108-108MS/jitter-blur/model_108-108-100_ep40'\n",
    "pltfun.final_image(model)"
   ]
  },
  {
   "cell_type": "markdown",
   "metadata": {},
   "source": [
    "---\n",
    "### Errori di riconoscimento\n",
    "Di seguito sono riportate le immagini che non sono state riconosciute correttamente."
   ]
  },
  {
   "cell_type": "code",
   "execution_count": null,
   "metadata": {
    "scrolled": false
   },
   "outputs": [],
   "source": [
    "import plot_functions as pltfun\n",
    "model = './final_models/keras/sol178_108-108MS/jitter-blur/model_108-108-100_ep40'\n",
    "pltfun.bad_aimed(model)"
   ]
  },
  {
   "cell_type": "markdown",
   "metadata": {},
   "source": [
    "Il modello si comporta in modo ottimale. Dal test si nota come le immagini correttamente predette vengano collegate alla propria classe con probabilità prossima al 100%.\n"
   ]
  },
  {
   "cell_type": "markdown",
   "metadata": {},
   "source": [
    "TODO: no elasticità"
   ]
  },
  {
   "cell_type": "markdown",
   "metadata": {},
   "source": [
    "## 6) Conclusioni"
   ]
  },
  {
   "cell_type": "markdown",
   "metadata": {},
   "source": [
    "- poche classi\n",
    "- utilizzare ultima versione di GTSRB"
   ]
  },
  {
   "cell_type": "markdown",
   "metadata": {},
   "source": [
    "## Bibliografia\n",
    "\n",
    "[\\[1\\] GTSRB - Man vs. computer: Benchmarking machine learning algorithms for traffic sign recognition]('http://dx.doi.org/10.1016/j.neunet.2012.02.016')\n",
    "\n",
    "[\\[2\\] OpenCV, EqualizeHist](https://docs.opencv.org/2.4/modules/imgproc/doc/histograms.html?highlight=equalizehist)\n",
    "\n",
    "[\\[3\\] scikit-image, exposure.equalize_adapthist](http://scikit-image.org/docs/dev/api/skimage.exposure.html#skimage.exposure.equalize_adapthist)\n",
    "\n",
    "https://docs.opencv.org/3.1.0/d5/daf/tutorial_py_histogram_equalization.html"
   ]
  }
 ],
 "metadata": {
  "kernelspec": {
   "display_name": "Python 3",
   "language": "python",
   "name": "python3"
  },
  "language_info": {
   "codemirror_mode": {
    "name": "ipython",
    "version": 3
   },
   "file_extension": ".py",
   "mimetype": "text/x-python",
   "name": "python",
   "nbconvert_exporter": "python",
   "pygments_lexer": "ipython3",
   "version": "3.6.2"
  }
 },
 "nbformat": 4,
 "nbformat_minor": 2
}
