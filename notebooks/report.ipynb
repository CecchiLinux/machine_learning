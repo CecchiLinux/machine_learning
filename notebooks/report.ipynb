{
 "cells": [
  {
   "cell_type": "markdown",
   "metadata": {},
   "source": [
    "# Traffic Sign Recognition\n",
    "----\n",
    "\n",
    "Progetto del corso di Machine Learning AA 2017/2018\n",
    "\n",
    "Corso di Laurea Magistrale in Informatica, Università di Bologna\n",
    "\n",
    "- Ceccolini Enrico (matricola )\n",
    "- Valguarnera Enrico (800115)\n"
   ]
  },
  {
   "cell_type": "markdown",
   "metadata": {},
   "source": [
    "Il progetto consiste nell'analisi ed implementazione di alcune delle soluzioni presentate nel paper *Traffic Sign Recognition with Multi-Scale Convolutional Networks* redatto da Pierre Sermanet e Yann LeCun. Tale studio racchiude le tecniche principali avanzate da diversi team di ricercatori (tra cui il loro) durante le competizioni IJCNN, sfide che avevano come obiettivo la realizzazione del miglior classificatore di segnali stradali (single-image, multi-class classification problem) partendo dal dataset GTSRB, dataset che impareremo a conoscere.\n",
    "\n",
    "E' possibile reperire il paper [qui]('http://yann.lecun.com/exdb/publis/pdf/sermanet-ijcnn-11.pdf').\n",
    "\n",
    "In particolare si cercherà di aderire alle tecniche proposte di: aumento del dataset, normalizzazione del dataset e di definizione delle reti neurali, proponendo alcune modifiche o integrazioni per il miglioramento dei modelli risultanti. "
   ]
  },
  {
   "cell_type": "markdown",
   "metadata": {},
   "source": [
    "# 1) Il Dataset GTSRB\n",
    "---\n",
    "\n",
    "Per uniformità al paper è stato scelto di utilizzare la versione del dataset indicata per l'*online competition stage*, non l'ultima presentata dall'istituto che si occupa delle competizioni. \n",
    "\n",
    "E' possibile ottenere il dataset [qui]('http://benchmark.ini.rub.de/index.php?section=gtsrb&subsection=dataset#Downloads').\n",
    "\n",
    "Questa contiene 39209 immagini in totale, divise tra tra training-set (26,640 immagini) e test-set (12,569 immagini). Ogni immagine contiene un singolo segnale stradale appartenente ad una delle 43 classi presenti. Le dimensioni delle immagini variano da un minimo di 15x15 ad un massimo di 250x250 pixel.\n",
    "\n",
    "Le immagini contenute nel dataset presentano molteplici difficoltà, per rispecchiare al meglio i problemi che si presentano nel mondo reale: diversi punti di vista, condizioni di luce (irradiazione, saturazione e basso contrasto), sfocature dovute al movimento, danni fisici, graffiti, adesivi e bassa risoluzione."
   ]
  },
  {
   "cell_type": "markdown",
   "metadata": {},
   "source": [
    "Load del dataset"
   ]
  },
  {
   "cell_type": "code",
   "execution_count": 1,
   "metadata": {},
   "outputs": [],
   "source": [
    "import my_mod_load as load # modulo per il load del dataset\n",
    "\n",
    "train, valid, test = load.load_train_valid_test()\n",
    "\n",
    "X_train, y_train = train['features'], train['labels']\n",
    "X_valid, y_valid = valid['features'], valid['labels']\n",
    "X_test, y_test = test['features'], test['labels']"
   ]
  },
  {
   "cell_type": "code",
   "execution_count": 2,
   "metadata": {},
   "outputs": [
    {
     "data": {
      "image/png": "[encoded data removed]",
      "text/plain": [
       "<matplotlib.figure.Figure at 0x7fa7a8b188d0>"
      ]
     },
     "metadata": {},
     "output_type": "display_data"
    }
   ],
   "source": [
    "import matplotlib.pyplot as plt\n",
    "%matplotlib inline\n",
    "import random\n",
    "import numpy as np\n",
    "sign_classes, class_indices, class_counts = np.unique(y_train, return_index = True, return_counts = True)\n",
    "\n",
    "plt.figure(figsize=(12, 4))\n",
    "plt.bar(np.arange(43), class_counts, align='center')\n",
    "plt.xlabel('Classe')\n",
    "plt.ylabel('Numero di immagini')\n",
    "plt.xlim(-1, 43)\n",
    "plt.show()"
   ]
  },
  {
   "cell_type": "markdown",
   "metadata": {},
   "source": [
    "----- TODO: parlare del ritaglio delle immagini?"
   ]
  },
  {
   "cell_type": "markdown",
   "metadata": {},
   "source": [
    "Visualizzazione di alcune immagini"
   ]
  },
  {
   "cell_type": "code",
   "execution_count": 3,
   "metadata": {},
   "outputs": [],
   "source": [
    "# valori? grafici? (alcuni solo visualizzazione caricando immagini)"
   ]
  },
  {
   "cell_type": "markdown",
   "metadata": {},
   "source": [
    "# 2) Data Preparation\n",
    "---\n",
    "## 2.1) Validation\n",
    "\n",
    "Come evdenzia il paper, la selezione delle immagini che popoleranno il validation dataset è cruciale in GTSRB. Mischiare le immagini e selezionare un sottoinsieme porterebbe ad avere un validation dataset troppo simile al training dataset e all'impossibilità di ottenere valori di performance del modello accurati.\n",
    "\n",
    "Il motivo è da trovare nella tecnica utilizzata per ottenere le immagini del dataset. Le immagini sono state estratte da tracce video. Per ogni traccia il segnale stradale presente è stato catturato circa 30 volte con aumento progressivo della risuluzione a mano a mano che la videocamera si avvicinava al segnale.\n",
    "\n",
    "Per la definizione del validation set si è estratta in maniera casuale una traccia per ognuna delle 43 classi, in modo da non avere immagini dello stesso identico segnale stradale nei diversi insiemi."
   ]
  },
  {
   "cell_type": "code",
   "execution_count": 4,
   "metadata": {},
   "outputs": [
    {
     "name": "stdout",
     "output_type": "stream",
     "text": [
      "Dimensione del training-set: 25350\n",
      "Dimensione del valid-set: 1290\n"
     ]
    }
   ],
   "source": [
    "print(\"Dimensione del training-set: {}\".format(len(X_train)))\n",
    "print(\"Dimensione del valid-set: {}\".format(len(X_valid)))"
   ]
  },
  {
   "cell_type": "markdown",
   "metadata": {},
   "source": [
    "## 2.2) Pre-processing\n",
    "---\n",
    "Per la fase di pre-processing è stata definita una collezione di funzioni, presente nel file my_mod_manipulate_image.py, utile per la normalizzazione e l'aumento dei dati."
   ]
  },
  {
   "cell_type": "markdown",
   "metadata": {},
   "source": [
    "### 2.2.1) Normalization\n",
    "---\n",
    "Di seguito la funzione di normalizzazione per una immagine in input."
   ]
  },
  {
   "cell_type": "markdown",
   "metadata": {},
   "source": [
    "``` Python\n",
    "def normalize_img(img):\n",
    "    \n",
    "    img_y = cv2.cvtColor(img, (cv2.COLOR_BGR2YUV))[:,:,0] #converte l'immagine in YUV e tiene il canale Y\n",
    "    img_y = cv2.equalizeHist(img_y) # Equalizzazione globale\n",
    "    img_y = (img_y / 255.).astype(np.float32) # Rappresenta i valori in un range di [0-1]\n",
    "    img_y = (exposure.equalize_adapthist(img_y) - 0.5) # Equalizzazione locale\n",
    "    img_y = img_y.reshape(img_y.shape + (1,))\n",
    "\n",
    "    return img_y\n",
    "```"
   ]
  },
  {
   "cell_type": "markdown",
   "metadata": {},
   "source": [
    "Normalizzazione delle immagini contenute nel training set"
   ]
  },
  {
   "cell_type": "markdown",
   "metadata": {},
   "source": [
    "```Python\n",
    "import my_mod_manipulate_image as manipulate # normalizzazione e aumento dei dati\n",
    "\n",
    "X_train_norm = list()\n",
    "y_train_norm = list()\n",
    "\n",
    "for ii in range(int(len(X_train)/1000)):\n",
    "    img = X_train[ii]\n",
    "    label = y_train[ii]\n",
    "    imgout = manipulate.normalize_img(img)\n",
    "    X_train_norm.append(imgout)\n",
    "    y_train_norm.append(label)\n",
    "```\n"
   ]
  },
  {
   "cell_type": "markdown",
   "metadata": {},
   "source": [
    "Visualizzazione di alcune immagini normalizzate"
   ]
  },
  {
   "cell_type": "code",
   "execution_count": 5,
   "metadata": {},
   "outputs": [],
   "source": [
    "#TODO : visualizzazione di alcune immagini normalizzate ?!"
   ]
  },
  {
   "cell_type": "markdown",
   "metadata": {},
   "source": [
    "### 2.2.2) Jittering\n",
    "---\n",
    "Per l'aumento dei dati è stata utilizzata la libreria Keras. In particolare tramite il modulo ImageDataGeneration è stato possibile generare l'aumento dei dati. Nel ciclo for sottostante è riportata la generazione di un nuovo insieme di immagini delle stesse dimensioni del training set originario.\n",
    "\n",
    "(TODO : spiegare meglio) "
   ]
  },
  {
   "cell_type": "markdown",
   "metadata": {},
   "source": [
    "```Python\n",
    "datagen = ImageDataGenerator(\n",
    "        # perturbed in position ([-2, 2] pixels)\n",
    "        width_shift_range=0.1,\n",
    "        height_shift_range=0.1,\n",
    "        # perturbed in scale ([.9, 1.1] ratio)\n",
    "        #rescale=1./255,\n",
    "        # perturbed in rotation ([-15, 15] degrees)\n",
    "        rotation_range=15,\n",
    "        shear_range=0.3,\n",
    "        zoom_range=0.15,\n",
    "        horizontal_flip=False,\n",
    "        vertical_flip=False,\n",
    "        fill_mode='nearest')\n",
    "\n",
    "# TODO aggiungere fattore moltiplicativo (esguendo più cicli?)\n",
    "# i cicli 2 e 3 creano immagini diverse dal primo?\n",
    "for X_batch, y_batch in datagen.flow(X_train, y_train, batch_size=len(X_train)):\n",
    "    X_train_aug = X_batch.astype('uint8')\n",
    "    y_train_aug = y_batch\n",
    "    break\n",
    "\n",
    "```"
   ]
  },
  {
   "cell_type": "markdown",
   "metadata": {},
   "source": [
    "Load del dataset manipolato"
   ]
  },
  {
   "cell_type": "code",
   "execution_count": 8,
   "metadata": {},
   "outputs": [
    {
     "name": "stdout",
     "output_type": "stream",
     "text": [
      "Dimensione del training-set: 152100\n"
     ]
    },
    {
     "data": {
      "image/png": "[encoded data removed]",
      "text/plain": [
       "<matplotlib.figure.Figure at 0x7fa7acec8668>"
      ]
     },
     "metadata": {},
     "output_type": "display_data"
    }
   ],
   "source": [
    "dirname = '2018-02-06_1645_online_augm_blur'\n",
    "\n",
    "X_train, y_train = load.load_manipulated_train(dirname)\n",
    "X_valid, y_valid = load.load_normalized_valid(dirname)\n",
    "X_test, y_test = load.load_normalized_test(dirname)\n",
    "print(\"Dimensione del training-set: {}\".format(len(X_train)))\n",
    "\n",
    "sign_classes, class_indices, class_counts = np.unique(y_train, return_index = True, return_counts = True)\n",
    "\n",
    "plt.figure(figsize=(12, 4))\n",
    "plt.bar(np.arange(43), class_counts, align='center')\n",
    "plt.xlabel('Classe')\n",
    "plt.ylabel('Numero di immagini')\n",
    "plt.xlim(-1, 43)\n",
    "plt.show()"
   ]
  },
  {
   "cell_type": "markdown",
   "metadata": {},
   "source": [
    "Visualizzazione di alcune immagini"
   ]
  },
  {
   "cell_type": "code",
   "execution_count": null,
   "metadata": {},
   "outputs": [],
   "source": []
  },
  {
   "cell_type": "markdown",
   "metadata": {},
   "source": [
    "## 3) Architecture\n",
    "---"
   ]
  },
  {
   "cell_type": "code",
   "execution_count": null,
   "metadata": {},
   "outputs": [],
   "source": []
  },
  {
   "cell_type": "markdown",
   "metadata": {},
   "source": [
    "## 4) Experiments\n",
    "---"
   ]
  },
  {
   "cell_type": "code",
   "execution_count": null,
   "metadata": {},
   "outputs": [],
   "source": []
  },
  {
   "cell_type": "markdown",
   "metadata": {},
   "source": [
    "## 5) Test sulle nuove immagini\n",
    "---"
   ]
  },
  {
   "cell_type": "code",
   "execution_count": 7,
   "metadata": {},
   "outputs": [
    {
     "name": "stderr",
     "output_type": "stream",
     "text": [
      "/Miniconda3/lib/python3.6/site-packages/skimage/transform/_warps.py:84: UserWarning: The default mode, 'constant', will be changed to 'reflect' in skimage 0.15.\n",
      "  warn(\"The default mode, 'constant', will be changed to 'reflect' in \"\n",
      "/Miniconda3/lib/python3.6/site-packages/skimage/util/dtype.py:122: UserWarning: Possible precision loss when converting from float32 to uint16\n",
      "  .format(dtypeobj_in, dtypeobj_out))\n"
     ]
    },
    {
     "name": "stdout",
     "output_type": "stream",
     "text": [
      "(6, 32, 32, 1)\n",
      "(32, 32, 1)\n"
     ]
    },
    {
     "data": {
      "text/plain": [
       "<matplotlib.image.AxesImage at 0x7fa74566c048>"
      ]
     },
     "execution_count": 7,
     "metadata": {},
     "output_type": "execute_result"
    },
    {
     "data": {
      "image/png": "[encoded data removed]",
      "text/plain": [
       "<matplotlib.figure.Figure at 0x7fa7a8b18710>"
      ]
     },
     "metadata": {},
     "output_type": "display_data"
    }
   ],
   "source": [
    "import matplotlib.pyplot as plt\n",
    "new_images = load.load_new_data()\n",
    "print(new_images.shape)\n",
    "\n",
    "img = new_images[0]\n",
    "print(img.shape)\n",
    "plt.imshow(img[:,:,0])\n"
   ]
  },
  {
   "cell_type": "markdown",
   "metadata": {},
   "source": [
    "## Bibliografia\n",
    "\n",
    "[\\[1\\] GTSRB - Man vs. computer: Benchmarking machine learning algorithms for traffic sign recognition]('http://dx.doi.org/10.1016/j.neunet.2012.02.016')"
   ]
  }
 ],
 "metadata": {
  "kernelspec": {
   "display_name": "Python 3",
   "language": "python",
   "name": "python3"
  },
  "language_info": {
   "codemirror_mode": {
    "name": "ipython",
    "version": 3
   },
   "file_extension": ".py",
   "mimetype": "text/x-python",
   "name": "python",
   "nbconvert_exporter": "python",
   "pygments_lexer": "ipython3",
   "version": "3.6.2"
  }
 },
 "nbformat": 4,
 "nbformat_minor": 2
}
