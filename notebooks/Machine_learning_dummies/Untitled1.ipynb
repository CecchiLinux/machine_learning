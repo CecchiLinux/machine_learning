{
 "cells": [
  {
   "cell_type": "code",
   "execution_count": 1,
   "metadata": {},
   "outputs": [],
   "source": [
    "import numpy as np\n",
    "import pandas as pd"
   ]
  },
  {
   "cell_type": "code",
   "execution_count": 2,
   "metadata": {},
   "outputs": [],
   "source": [
    "DATASET_PATH = \"/datasets/codex.csv\"\n",
    "df = pd.read_csv(DATASET_PATH)"
   ]
  },
  {
   "cell_type": "code",
   "execution_count": 3,
   "metadata": {},
   "outputs": [
    {
     "data": {
      "text/html": [
       "<div>\n",
       "<style scoped>\n",
       "    .dataframe tbody tr th:only-of-type {\n",
       "        vertical-align: middle;\n",
       "    }\n",
       "\n",
       "    .dataframe tbody tr th {\n",
       "        vertical-align: top;\n",
       "    }\n",
       "\n",
       "    .dataframe thead th {\n",
       "        text-align: right;\n",
       "    }\n",
       "</style>\n",
       "<table border=\"1\" class=\"dataframe\">\n",
       "  <thead>\n",
       "    <tr style=\"text-align: right;\">\n",
       "      <th></th>\n",
       "      <th>question_id</th>\n",
       "      <th>title</th>\n",
       "      <th>tags</th>\n",
       "      <th>creation_date</th>\n",
       "      <th>accepted_answer</th>\n",
       "      <th>favorite_count</th>\n",
       "      <th>answer_count</th>\n",
       "      <th>comment_count</th>\n",
       "      <th>view_count</th>\n",
       "    </tr>\n",
       "  </thead>\n",
       "  <tbody>\n",
       "    <tr>\n",
       "      <th>0</th>\n",
       "      <td>44919655</td>\n",
       "      <td>How to add an onclick method on dynamically cr...</td>\n",
       "      <td>javascript|jquery</td>\n",
       "      <td>2017-07-05 07:29:18.98 UTC</td>\n",
       "      <td>NaN</td>\n",
       "      <td>NaN</td>\n",
       "      <td>5</td>\n",
       "      <td>11</td>\n",
       "      <td>52</td>\n",
       "    </tr>\n",
       "    <tr>\n",
       "      <th>1</th>\n",
       "      <td>45962870</td>\n",
       "      <td>Html clone in Javascript</td>\n",
       "      <td>javascript|jquery|html</td>\n",
       "      <td>2017-08-30 14:16:55.68 UTC</td>\n",
       "      <td>45964230.0</td>\n",
       "      <td>2.0</td>\n",
       "      <td>5</td>\n",
       "      <td>11</td>\n",
       "      <td>106</td>\n",
       "    </tr>\n",
       "    <tr>\n",
       "      <th>2</th>\n",
       "      <td>47409716</td>\n",
       "      <td>'number' is not a valid type for an input tag ...</td>\n",
       "      <td>asp.net|html5|iis|webforms</td>\n",
       "      <td>2017-11-21 09:36:17.393 UTC</td>\n",
       "      <td>47515741.0</td>\n",
       "      <td>NaN</td>\n",
       "      <td>7</td>\n",
       "      <td>14</td>\n",
       "      <td>227</td>\n",
       "    </tr>\n",
       "    <tr>\n",
       "      <th>3</th>\n",
       "      <td>42415666</td>\n",
       "      <td>Error:Cause: unable to find valid certificatio...</td>\n",
       "      <td>android|android-studio</td>\n",
       "      <td>2017-02-23 12:22:43.983 UTC</td>\n",
       "      <td>NaN</td>\n",
       "      <td>1.0</td>\n",
       "      <td>7</td>\n",
       "      <td>12</td>\n",
       "      <td>17553</td>\n",
       "    </tr>\n",
       "    <tr>\n",
       "      <th>4</th>\n",
       "      <td>45001657</td>\n",
       "      <td>Codeigniter User's Data</td>\n",
       "      <td>codeigniter|view|details</td>\n",
       "      <td>2017-07-09 22:29:15.42 UTC</td>\n",
       "      <td>NaN</td>\n",
       "      <td>0.0</td>\n",
       "      <td>7</td>\n",
       "      <td>15</td>\n",
       "      <td>721</td>\n",
       "    </tr>\n",
       "  </tbody>\n",
       "</table>\n",
       "</div>"
      ],
      "text/plain": [
       "   question_id                                              title  \\\n",
       "0     44919655  How to add an onclick method on dynamically cr...   \n",
       "1     45962870                           Html clone in Javascript   \n",
       "2     47409716  'number' is not a valid type for an input tag ...   \n",
       "3     42415666  Error:Cause: unable to find valid certificatio...   \n",
       "4     45001657                            Codeigniter User's Data   \n",
       "\n",
       "                         tags                creation_date  accepted_answer  \\\n",
       "0           javascript|jquery   2017-07-05 07:29:18.98 UTC              NaN   \n",
       "1      javascript|jquery|html   2017-08-30 14:16:55.68 UTC       45964230.0   \n",
       "2  asp.net|html5|iis|webforms  2017-11-21 09:36:17.393 UTC       47515741.0   \n",
       "3      android|android-studio  2017-02-23 12:22:43.983 UTC              NaN   \n",
       "4    codeigniter|view|details   2017-07-09 22:29:15.42 UTC              NaN   \n",
       "\n",
       "   favorite_count  answer_count  comment_count  view_count  \n",
       "0             NaN             5             11          52  \n",
       "1             2.0             5             11         106  \n",
       "2             NaN             7             14         227  \n",
       "3             1.0             7             12       17553  \n",
       "4             0.0             7             15         721  "
      ]
     },
     "execution_count": 3,
     "metadata": {},
     "output_type": "execute_result"
    }
   ],
   "source": [
    "df.head()"
   ]
  },
  {
   "cell_type": "code",
   "execution_count": 4,
   "metadata": {},
   "outputs": [],
   "source": [
    "df[\"answered\"] = ~pd.isna(df[\"accepted_answer\"])\n",
    "df[\"answered\"] = df[\"answered\"].astype(int)"
   ]
  },
  {
   "cell_type": "code",
   "execution_count": 18,
   "metadata": {},
   "outputs": [
    {
     "data": {
      "text/html": [
       "<div>\n",
       "<style scoped>\n",
       "    .dataframe tbody tr th:only-of-type {\n",
       "        vertical-align: middle;\n",
       "    }\n",
       "\n",
       "    .dataframe tbody tr th {\n",
       "        vertical-align: top;\n",
       "    }\n",
       "\n",
       "    .dataframe thead th {\n",
       "        text-align: right;\n",
       "    }\n",
       "</style>\n",
       "<table border=\"1\" class=\"dataframe\">\n",
       "  <thead>\n",
       "    <tr style=\"text-align: right;\">\n",
       "      <th></th>\n",
       "      <th>question_id</th>\n",
       "      <th>title</th>\n",
       "      <th>tags</th>\n",
       "      <th>creation_date</th>\n",
       "      <th>accepted_answer</th>\n",
       "      <th>favorite_count</th>\n",
       "      <th>answer_count</th>\n",
       "      <th>comment_count</th>\n",
       "      <th>view_count</th>\n",
       "      <th>answered</th>\n",
       "    </tr>\n",
       "  </thead>\n",
       "  <tbody>\n",
       "    <tr>\n",
       "      <th>0</th>\n",
       "      <td>44919655</td>\n",
       "      <td>How to add an onclick method on dynamically cr...</td>\n",
       "      <td>javascript|jquery</td>\n",
       "      <td>2017-07-05 07:29:18.98 UTC</td>\n",
       "      <td>NaN</td>\n",
       "      <td>NaN</td>\n",
       "      <td>5</td>\n",
       "      <td>11</td>\n",
       "      <td>52</td>\n",
       "      <td>0</td>\n",
       "    </tr>\n",
       "    <tr>\n",
       "      <th>1</th>\n",
       "      <td>45962870</td>\n",
       "      <td>Html clone in Javascript</td>\n",
       "      <td>javascript|jquery|html</td>\n",
       "      <td>2017-08-30 14:16:55.68 UTC</td>\n",
       "      <td>45964230.0</td>\n",
       "      <td>2.0</td>\n",
       "      <td>5</td>\n",
       "      <td>11</td>\n",
       "      <td>106</td>\n",
       "      <td>1</td>\n",
       "    </tr>\n",
       "    <tr>\n",
       "      <th>2</th>\n",
       "      <td>47409716</td>\n",
       "      <td>'number' is not a valid type for an input tag ...</td>\n",
       "      <td>asp.net|html5|iis|webforms</td>\n",
       "      <td>2017-11-21 09:36:17.393 UTC</td>\n",
       "      <td>47515741.0</td>\n",
       "      <td>NaN</td>\n",
       "      <td>7</td>\n",
       "      <td>14</td>\n",
       "      <td>227</td>\n",
       "      <td>1</td>\n",
       "    </tr>\n",
       "    <tr>\n",
       "      <th>3</th>\n",
       "      <td>42415666</td>\n",
       "      <td>Error:Cause: unable to find valid certificatio...</td>\n",
       "      <td>android|android-studio</td>\n",
       "      <td>2017-02-23 12:22:43.983 UTC</td>\n",
       "      <td>NaN</td>\n",
       "      <td>1.0</td>\n",
       "      <td>7</td>\n",
       "      <td>12</td>\n",
       "      <td>17553</td>\n",
       "      <td>0</td>\n",
       "    </tr>\n",
       "    <tr>\n",
       "      <th>4</th>\n",
       "      <td>45001657</td>\n",
       "      <td>Codeigniter User's Data</td>\n",
       "      <td>codeigniter|view|details</td>\n",
       "      <td>2017-07-09 22:29:15.42 UTC</td>\n",
       "      <td>NaN</td>\n",
       "      <td>0.0</td>\n",
       "      <td>7</td>\n",
       "      <td>15</td>\n",
       "      <td>721</td>\n",
       "      <td>0</td>\n",
       "    </tr>\n",
       "  </tbody>\n",
       "</table>\n",
       "</div>"
      ],
      "text/plain": [
       "   question_id                                              title  \\\n",
       "0     44919655  How to add an onclick method on dynamically cr...   \n",
       "1     45962870                           Html clone in Javascript   \n",
       "2     47409716  'number' is not a valid type for an input tag ...   \n",
       "3     42415666  Error:Cause: unable to find valid certificatio...   \n",
       "4     45001657                            Codeigniter User's Data   \n",
       "\n",
       "                         tags                creation_date  accepted_answer  \\\n",
       "0           javascript|jquery   2017-07-05 07:29:18.98 UTC              NaN   \n",
       "1      javascript|jquery|html   2017-08-30 14:16:55.68 UTC       45964230.0   \n",
       "2  asp.net|html5|iis|webforms  2017-11-21 09:36:17.393 UTC       47515741.0   \n",
       "3      android|android-studio  2017-02-23 12:22:43.983 UTC              NaN   \n",
       "4    codeigniter|view|details   2017-07-09 22:29:15.42 UTC              NaN   \n",
       "\n",
       "   favorite_count  answer_count  comment_count  view_count  answered  \n",
       "0             NaN             5             11          52         0  \n",
       "1             2.0             5             11         106         1  \n",
       "2             NaN             7             14         227         1  \n",
       "3             1.0             7             12       17553         0  \n",
       "4             0.0             7             15         721         0  "
      ]
     },
     "execution_count": 18,
     "metadata": {},
     "output_type": "execute_result"
    }
   ],
   "source": [
    "df.head()"
   ]
  },
  {
   "cell_type": "code",
   "execution_count": 5,
   "metadata": {},
   "outputs": [
    {
     "data": {
      "text/html": [
       "<div>\n",
       "<style scoped>\n",
       "    .dataframe tbody tr th:only-of-type {\n",
       "        vertical-align: middle;\n",
       "    }\n",
       "\n",
       "    .dataframe tbody tr th {\n",
       "        vertical-align: top;\n",
       "    }\n",
       "\n",
       "    .dataframe thead th {\n",
       "        text-align: right;\n",
       "    }\n",
       "</style>\n",
       "<table border=\"1\" class=\"dataframe\">\n",
       "  <thead>\n",
       "    <tr style=\"text-align: right;\">\n",
       "      <th></th>\n",
       "      <th>question_id</th>\n",
       "      <th>accepted_answer</th>\n",
       "      <th>favorite_count</th>\n",
       "      <th>answer_count</th>\n",
       "      <th>comment_count</th>\n",
       "      <th>view_count</th>\n",
       "      <th>answered</th>\n",
       "    </tr>\n",
       "  </thead>\n",
       "  <tbody>\n",
       "    <tr>\n",
       "      <th>count</th>\n",
       "      <td>2.143214e+06</td>\n",
       "      <td>8.026650e+05</td>\n",
       "      <td>244708.000000</td>\n",
       "      <td>2.143214e+06</td>\n",
       "      <td>2.143214e+06</td>\n",
       "      <td>2.143214e+06</td>\n",
       "      <td>2.143214e+06</td>\n",
       "    </tr>\n",
       "    <tr>\n",
       "      <th>mean</th>\n",
       "      <td>4.480207e+07</td>\n",
       "      <td>4.473181e+07</td>\n",
       "      <td>0.949221</td>\n",
       "      <td>1.021151e+00</td>\n",
       "      <td>2.034083e+00</td>\n",
       "      <td>1.217309e+02</td>\n",
       "      <td>3.745146e-01</td>\n",
       "    </tr>\n",
       "    <tr>\n",
       "      <th>std</th>\n",
       "      <td>1.656078e+06</td>\n",
       "      <td>1.625951e+06</td>\n",
       "      <td>1.074174</td>\n",
       "      <td>9.668283e-01</td>\n",
       "      <td>2.780897e+00</td>\n",
       "      <td>5.159113e+02</td>\n",
       "      <td>4.839974e-01</td>\n",
       "    </tr>\n",
       "    <tr>\n",
       "      <th>min</th>\n",
       "      <td>4.192734e+07</td>\n",
       "      <td>4.192737e+07</td>\n",
       "      <td>0.000000</td>\n",
       "      <td>0.000000e+00</td>\n",
       "      <td>0.000000e+00</td>\n",
       "      <td>1.000000e+00</td>\n",
       "      <td>0.000000e+00</td>\n",
       "    </tr>\n",
       "    <tr>\n",
       "      <th>25%</th>\n",
       "      <td>4.336820e+07</td>\n",
       "      <td>4.332372e+07</td>\n",
       "      <td>1.000000</td>\n",
       "      <td>0.000000e+00</td>\n",
       "      <td>0.000000e+00</td>\n",
       "      <td>3.000000e+01</td>\n",
       "      <td>0.000000e+00</td>\n",
       "    </tr>\n",
       "    <tr>\n",
       "      <th>50%</th>\n",
       "      <td>4.479699e+07</td>\n",
       "      <td>4.472145e+07</td>\n",
       "      <td>1.000000</td>\n",
       "      <td>1.000000e+00</td>\n",
       "      <td>1.000000e+00</td>\n",
       "      <td>4.900000e+01</td>\n",
       "      <td>0.000000e+00</td>\n",
       "    </tr>\n",
       "    <tr>\n",
       "      <th>75%</th>\n",
       "      <td>4.624844e+07</td>\n",
       "      <td>4.612706e+07</td>\n",
       "      <td>1.000000</td>\n",
       "      <td>1.000000e+00</td>\n",
       "      <td>3.000000e+00</td>\n",
       "      <td>9.200000e+01</td>\n",
       "      <td>1.000000e+00</td>\n",
       "    </tr>\n",
       "    <tr>\n",
       "      <th>max</th>\n",
       "      <td>4.761543e+07</td>\n",
       "      <td>4.761540e+07</td>\n",
       "      <td>86.000000</td>\n",
       "      <td>2.800000e+01</td>\n",
       "      <td>7.800000e+01</td>\n",
       "      <td>1.621980e+05</td>\n",
       "      <td>1.000000e+00</td>\n",
       "    </tr>\n",
       "  </tbody>\n",
       "</table>\n",
       "</div>"
      ],
      "text/plain": [
       "        question_id  accepted_answer  favorite_count  answer_count  \\\n",
       "count  2.143214e+06     8.026650e+05   244708.000000  2.143214e+06   \n",
       "mean   4.480207e+07     4.473181e+07        0.949221  1.021151e+00   \n",
       "std    1.656078e+06     1.625951e+06        1.074174  9.668283e-01   \n",
       "min    4.192734e+07     4.192737e+07        0.000000  0.000000e+00   \n",
       "25%    4.336820e+07     4.332372e+07        1.000000  0.000000e+00   \n",
       "50%    4.479699e+07     4.472145e+07        1.000000  1.000000e+00   \n",
       "75%    4.624844e+07     4.612706e+07        1.000000  1.000000e+00   \n",
       "max    4.761543e+07     4.761540e+07       86.000000  2.800000e+01   \n",
       "\n",
       "       comment_count    view_count      answered  \n",
       "count   2.143214e+06  2.143214e+06  2.143214e+06  \n",
       "mean    2.034083e+00  1.217309e+02  3.745146e-01  \n",
       "std     2.780897e+00  5.159113e+02  4.839974e-01  \n",
       "min     0.000000e+00  1.000000e+00  0.000000e+00  \n",
       "25%     0.000000e+00  3.000000e+01  0.000000e+00  \n",
       "50%     1.000000e+00  4.900000e+01  0.000000e+00  \n",
       "75%     3.000000e+00  9.200000e+01  1.000000e+00  \n",
       "max     7.800000e+01  1.621980e+05  1.000000e+00  "
      ]
     },
     "execution_count": 5,
     "metadata": {},
     "output_type": "execute_result"
    }
   ],
   "source": [
    "df.describe()"
   ]
  },
  {
   "cell_type": "code",
   "execution_count": 20,
   "metadata": {},
   "outputs": [
    {
     "data": {
      "text/plain": [
       "pandas.core.frame.DataFrame"
      ]
     },
     "execution_count": 20,
     "metadata": {},
     "output_type": "execute_result"
    }
   ],
   "source": [
    "type(df.describe())"
   ]
  },
  {
   "cell_type": "code",
   "execution_count": 6,
   "metadata": {},
   "outputs": [
    {
     "data": {
      "text/plain": [
       "array([False, False, False, ..., False, False, False], dtype=bool)"
      ]
     },
     "execution_count": 6,
     "metadata": {},
     "output_type": "execute_result"
    }
   ],
   "source": [
    "ar = np.array([type(s) == type(1) for s in df[\"tags\"]])\n",
    "ar\n"
   ]
  },
  {
   "cell_type": "code",
   "execution_count": 10,
   "metadata": {},
   "outputs": [],
   "source": [
    "df.dropna(inplace=True)\n",
    "df[\"tags\"] = [s.split(\"|\") for s in df[\"tags\"]]"
   ]
  },
  {
   "cell_type": "code",
   "execution_count": null,
   "metadata": {},
   "outputs": [],
   "source": []
  },
  {
   "cell_type": "code",
   "execution_count": null,
   "metadata": {},
   "outputs": [],
   "source": []
  },
  {
   "cell_type": "code",
   "execution_count": 7,
   "metadata": {},
   "outputs": [
    {
     "data": {
      "text/plain": [
       "['pippo', 'nan', 'pluto']"
      ]
     },
     "execution_count": 7,
     "metadata": {},
     "output_type": "execute_result"
    }
   ],
   "source": [
    "string = 'pippo|nan|pluto'\n",
    "l = string.split(\"|\")\n",
    "l"
   ]
  },
  {
   "cell_type": "code",
   "execution_count": 15,
   "metadata": {},
   "outputs": [
    {
     "name": "stdout",
     "output_type": "stream",
     "text": [
      "nan\n"
     ]
    }
   ],
   "source": [
    "import math\n",
    "c = float('nan')\n",
    "if math.isnan(c):\n",
    "    print(\"nan\")"
   ]
  }
 ],
 "metadata": {
  "kernelspec": {
   "display_name": "Python 3",
   "language": "python",
   "name": "python3"
  },
  "language_info": {
   "codemirror_mode": {
    "name": "ipython",
    "version": 3
   },
   "file_extension": ".py",
   "mimetype": "text/x-python",
   "name": "python",
   "nbconvert_exporter": "python",
   "pygments_lexer": "ipython3",
   "version": "3.6.2"
  }
 },
 "nbformat": 4,
 "nbformat_minor": 2
}
