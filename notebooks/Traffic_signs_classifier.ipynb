{
 "cells": [
  {
   "cell_type": "markdown",
   "metadata": {},
   "source": [
    "# Traffic sign classifier\n",
    "\n",
    "## Machine Learning Project: Build a Traffic Sign Classifier\n",
    "\n",
    "---\n",
    "**Disclaimer**\n",
    "\n",
    "This project aims to be a study and a reworking of [this](https://github.com/lfiaschi/udacity-traffic-sign-classifier) notebook."
   ]
  },
  {
   "cell_type": "code",
   "execution_count": 12,
   "metadata": {},
   "outputs": [],
   "source": [
    "# import cv2 # resize the images\n",
    "import numpy as np\n",
    "import pandas as pd\n",
    "import os # to work with directories\n",
    "from random import shuffle # shuffle data\n",
    "\n",
    "DATASET_DIR = '/datasets/GTSRB/Images/'\n",
    "ANNOTATION_FILE = './signnames.csv'\n",
    "\n",
    "# IMAGE_SIZE = 50\n",
    "# LR = 1e-3\n",
    "# MODEL_NAME = 'trafficsigns--{}--{}.model'.format(LR, \"2conv-basic\")"
   ]
  },
  {
   "cell_type": "markdown",
   "metadata": {},
   "source": [
    "Load the csv file with the annotations"
   ]
  },
  {
   "cell_type": "code",
   "execution_count": 13,
   "metadata": {
    "scrolled": true
   },
   "outputs": [
    {
     "name": "stdout",
     "output_type": "stream",
     "text": [
      "                     SignName\n",
      "ClassId                      \n",
      "0        Speed limit (20km/h)\n",
      "1        Speed limit (30km/h)\n",
      "2        Speed limit (50km/h)\n",
      "3        Speed limit (60km/h)\n",
      "4        Speed limit (70km/h)\n"
     ]
    }
   ],
   "source": [
    "signnames = pd.read_csv(ANNOTATION_FILE)\n",
    "signnames.set_index('ClassId',inplace=True) \n",
    "print(signnames[:5])\n",
    "\n",
    "def get_name_from_label(label):\n",
    "    \"\"\"Return the textual name corresponding to the numeric class id\n",
    "    \n",
    "    this functions look for a correspondence between the numeric class id \n",
    "    and the textual name of the class.\n",
    "    \n",
    "    :param label: the numeric class id\n",
    "    :type label: int\n",
    "    :returns: the textual name of the class\n",
    "    \n",
    "    :Example:\n",
    "\n",
    "    >>> get_name_from_label(0)\n",
    "    Speed limit (20km/h)   \n",
    "    \"\"\"    \n",
    "    return signnames.loc[label].SignName"
   ]
  },
  {
   "cell_type": "markdown",
   "metadata": {},
   "source": [
    "The images are divided into folders based on their category. The *load_dataset* function create a list of all the images labeled with the name of their folder."
   ]
  },
  {
   "cell_type": "code",
   "execution_count": 14,
   "metadata": {},
   "outputs": [],
   "source": [
    "def load_dataset(path):\n",
    "    \"\"\"Load a dataset of images given a path\n",
    "    \n",
    "    this function look for images on the subfolders of the given path and label \n",
    "    them with the name of the folder where the image is stored\n",
    "    \n",
    "    :param path: the path where the images divided into folders are stored\n",
    "    :returns: a numpy array    \n",
    "    \"\"\"\n",
    "    dataset = []\n",
    "    for subdir, dirs, files in os.walk(path): # all file on the dataset folder\n",
    "        for img in files: # one image by one\n",
    "            label = os.path.basename(subdir) # obtain the img label (name of the folder)\n",
    "            imgPath = os.path.join(path, label, img) # the path of the img\n",
    "            #img = cv2.resize(cv2.imread(path, cv2.IMREAD_GRAYSCALE), (IMAGE_SIZE, IMAGE_SIZE))\n",
    "            \n",
    "            label = int(label) # remove the zeros ahead the name of the folder\n",
    "            #training_data.append([np.array(img), np.array(label)])\n",
    "            dataset.append([imgPath, label])\n",
    "    shuffle(dataset)\n",
    "    # np.save('dataset.npy', dataset)\n",
    "    return dataset"
   ]
  },
  {
   "cell_type": "code",
   "execution_count": 15,
   "metadata": {},
   "outputs": [
    {
     "name": "stdout",
     "output_type": "stream",
     "text": [
      "dataset cardinality : 39252\n",
      "/datasets/GTSRB/Images/00002/00068_00013.ppm \t 2 \t Speed limit (50km/h)\n",
      "/datasets/GTSRB/Images/00007/00036_00029.ppm \t 7 \t Speed limit (100km/h)\n",
      "/datasets/GTSRB/Images/00040/00001_00001.ppm \t 40 \t Roundabout mandatory\n",
      "/datasets/GTSRB/Images/00038/00061_00014.ppm \t 38 \t Keep right\n",
      "/datasets/GTSRB/Images/00038/00020_00018.ppm \t 38 \t Keep right\n"
     ]
    }
   ],
   "source": [
    "dataset = load_dataset(DATASET_DIR)\n",
    "print(\"dataset cardinality : {}\".format(len(dataset)))\n",
    "\n",
    "# print the first 5 elements\n",
    "for data in dataset[0:5]:\n",
    "    print(data[0], \"\\t\", data[1], \"\\t\", get_name_from_label(data[1]))"
   ]
  },
  {
   "cell_type": "markdown",
   "metadata": {},
   "source": [
    "TODO cercare di ottenere X_train, y_train, X_valid, y_valid per allienarci con il progetto originale"
   ]
  },
  {
   "cell_type": "markdown",
   "metadata": {},
   "source": [
    "## Select data to create the trainingset and the testset"
   ]
  },
  {
   "cell_type": "code",
   "execution_count": 16,
   "metadata": {},
   "outputs": [
    {
     "name": "stdout",
     "output_type": "stream",
     "text": [
      "training set cardinality : 34252\n",
      "testset cardinality : 5000\n"
     ]
    }
   ],
   "source": [
    "# training_set = dataset[:-5000] # take all the images except the last 5000\n",
    "# test_set = dataset[-5000:] # take the last 5000 images\n",
    "# print(\"training set cardinality : {}\".format(len(training_set)))\n",
    "# print(\"testset cardinality : {}\".format(len(test_set)))"
   ]
  }
 ],
 "metadata": {
  "kernelspec": {
   "display_name": "Python 3",
   "language": "python",
   "name": "python3"
  },
  "language_info": {
   "codemirror_mode": {
    "name": "ipython",
    "version": 3
   },
   "file_extension": ".py",
   "mimetype": "text/x-python",
   "name": "python",
   "nbconvert_exporter": "python",
   "pygments_lexer": "ipython3",
   "version": "3.6.2"
  }
 },
 "nbformat": 4,
 "nbformat_minor": 2
}
