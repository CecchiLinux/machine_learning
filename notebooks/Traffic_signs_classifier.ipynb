{
 "cells": [
  {
   "cell_type": "markdown",
   "metadata": {},
   "source": [
    "# Traffic sign classifier\n",
    "---"
   ]
  },
  {
   "cell_type": "code",
   "execution_count": 3,
   "metadata": {},
   "outputs": [],
   "source": [
    "import cv2 # resize the images\n",
    "import numpy as np\n",
    "import pandas as pd\n",
    "import os # to work with directories\n",
    "from random import shuffle # shuffle data\n",
    "\n",
    "DATASET_DIR = '/datasets/GTSRB/Images/'\n",
    "ANNOTATION_FILE = './signnames.csv'\n",
    "\n",
    "IMAGE_SIZE = 50\n",
    "\n",
    "# LR = 1e-3\n",
    "# MODEL_NAME = 'trafficsigns--{}--{}.model'.format(LR, \"2conv-basic\")"
   ]
  },
  {
   "cell_type": "markdown",
   "metadata": {},
   "source": [
    "Load the csv file with the annotations"
   ]
  },
  {
   "cell_type": "code",
   "execution_count": 13,
   "metadata": {},
   "outputs": [],
   "source": [
    "signnames = pd.read_csv(ANNOTATION_FILE)\n",
    "signnames.set_index('ClassId',inplace=True)\n",
    "\n",
    "def get_name_from_label(label):\n",
    "    return signnames.loc[label].SignName"
   ]
  },
  {
   "cell_type": "markdown",
   "metadata": {},
   "source": [
    "The images are divided into folders based on their category. The *load_dataset* function create a list of all the images labeled with the name of their folder."
   ]
  },
  {
   "cell_type": "code",
   "execution_count": 14,
   "metadata": {},
   "outputs": [],
   "source": [
    "def load_dataset():\n",
    "    dataset = []\n",
    "    for subdir, dirs, files in os.walk(DATASET_DIR): # all file on the dataset folder\n",
    "        for img in files: # one image by one\n",
    "            label = os.path.basename(subdir) # obtain the img label (name of the folder)\n",
    "            path = os.path.join(DATASET_DIR, label, img) # the path of the img\n",
    "            #img = cv2.resize(cv2.imread(path, cv2.IMREAD_GRAYSCALE), (IMAGE_SIZE, IMAGE_SIZE))\n",
    "            \n",
    "            label = int(label) # remove the zeros ahead the name of the folder\n",
    "            #training_data.append([np.array(img), np.array(label)])\n",
    "            dataset.append([path, label])\n",
    "    shuffle(dataset)\n",
    "    # np.save('dataset.npy', dataset)\n",
    "    return dataset"
   ]
  },
  {
   "cell_type": "code",
   "execution_count": 15,
   "metadata": {},
   "outputs": [
    {
     "name": "stdout",
     "output_type": "stream",
     "text": [
      "dataset cardinality : 39252\n",
      "/datasets/GTSRB/Images/00001/00013_00009.ppm \t 1 \t Speed limit (30km/h)\n",
      "/datasets/GTSRB/Images/00027/00007_00014.ppm \t 27 \t Pedestrians\n",
      "/datasets/GTSRB/Images/00023/00006_00016.ppm \t 23 \t Slippery road\n",
      "/datasets/GTSRB/Images/00009/00028_00016.ppm \t 9 \t No passing\n",
      "/datasets/GTSRB/Images/00001/00000_00014.ppm \t 1 \t Speed limit (30km/h)\n"
     ]
    }
   ],
   "source": [
    "dataset = load_dataset()\n",
    "print(\"dataset cardinality : {}\".format(len(dataset)))\n",
    "\n",
    "# print the first 5 elements\n",
    "for data in dataset[0:5]:\n",
    "    print(data[0], \"\\t\", data[1], \"\\t\", get_name_from_label(data[1]))"
   ]
  },
  {
   "cell_type": "markdown",
   "metadata": {},
   "source": [
    "## Select data to create the trainingset and the testset"
   ]
  },
  {
   "cell_type": "code",
   "execution_count": 16,
   "metadata": {},
   "outputs": [
    {
     "name": "stdout",
     "output_type": "stream",
     "text": [
      "training set cardinality : 34252\n",
      "testset cardinality : 5000\n"
     ]
    }
   ],
   "source": [
    "training_set = dataset[:-5000] # take all the images except the last 5000\n",
    "test_set = dataset[-5000:] # take the last 5000 images\n",
    "print(\"training set cardinality : {}\".format(len(training_set)))\n",
    "print(\"testset cardinality : {}\".format(len(test_set)))"
   ]
  }
 ],
 "metadata": {
  "kernelspec": {
   "display_name": "Python 3",
   "language": "python",
   "name": "python3"
  },
  "language_info": {
   "codemirror_mode": {
    "name": "ipython",
    "version": 3
   },
   "file_extension": ".py",
   "mimetype": "text/x-python",
   "name": "python",
   "nbconvert_exporter": "python",
   "pygments_lexer": "ipython3",
   "version": "3.6.2"
  }
 },
 "nbformat": 4,
 "nbformat_minor": 2
}
