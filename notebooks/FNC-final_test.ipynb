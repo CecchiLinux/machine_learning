{
 "cells": [
  {
   "cell_type": "code",
   "execution_count": 337,
   "metadata": {},
   "outputs": [
    {
     "data": {
      "text/html": [
       "<style>.container { width:100% !important; }</style>"
      ],
      "text/plain": [
       "<IPython.core.display.HTML object>"
      ]
     },
     "metadata": {},
     "output_type": "display_data"
    }
   ],
   "source": [
    "from IPython.core.display import display, HTML\n",
    "display(HTML(\"<style>.container { width:100% !important; }</style>\"))"
   ]
  },
  {
   "cell_type": "code",
   "execution_count": 338,
   "metadata": {},
   "outputs": [],
   "source": [
    "# considera solo le probabilità superiori a:\n",
    "min_prob = 0.1\n",
    "\n",
    "# ----------------------------------------------------------------------- #\n",
    "# seleziona un'immagine e la dimensione con la quale la vuoi caricare     #\n",
    "# ----------------------------------------------------------------------- #\n",
    "\n",
    "fname = '/notebooks/images/test_fcn/final/50/50_48.png'\n",
    "ll = 2 # true label\n",
    "IMAGE_SIZE_NEW = (32, 32)\n",
    "fname = '/notebooks/images/test_fcn/final/50/2_50km_64.png'\n",
    "ll = 2 # true label\n",
    "IMAGE_SIZE_NEW = (48, 48)\n",
    "fname = '/notebooks/images/test_fcn/final/50/2_50km_80.png'\n",
    "ll = 2 # true label\n",
    "IMAGE_SIZE_NEW = (64, 64)\n",
    "fname = '/notebooks/images/test_fcn/final/50/2_50km_96.png'\n",
    "ll = 2 # true label\n",
    "IMAGE_SIZE_NEW = (80, 80)\n",
    "fname = '/notebooks/images/test_fcn/final/50/2_50km_112.png'\n",
    "ll = 2 # true label\n",
    "IMAGE_SIZE_NEW = (96, 96)\n",
    "fname = '/notebooks/images/test_fcn/final/50/2_50km_128.png'\n",
    "ll = 2 # true label\n",
    "IMAGE_SIZE_NEW = (112, 112)\n",
    "fname = '/notebooks/images/test_fcn/final/50/2_50km_144.png'\n",
    "ll = 2 # true label\n",
    "IMAGE_SIZE_NEW = (128, 128)\n",
    "fname = '/notebooks/images/test_fcn/final/50/2_50km_160.png'\n",
    "ll = 2 # true label\n",
    "IMAGE_SIZE_NEW = (144, 144)\n",
    "#fname = '/notebooks/images/test_fcn/final/50/2_50km_176.png'\n",
    "#ll = 2 # true label\n",
    "#IMAGE_SIZE_NEW = (160, 160)\n",
    "#fname = '/notebooks/images/test_fcn/final/50/2_50km_192.png'\n",
    "#ll = 2 # true label\n",
    "#IMAGE_SIZE_NEW = (176, 176)\n",
    "#fname = '/notebooks/images/test_fcn/final/50/2_50km_208.png'\n",
    "#ll = 2 # true label\n",
    "#IMAGE_SIZE_NEW = (192, 192)\n",
    "#fname = '/notebooks/images/test_fcn/final/50/2_50km_224.png'\n",
    "#ll = 2 # true label\n",
    "#IMAGE_SIZE_NEW = (208, 208)\n",
    "#fname = '/notebooks/images/test_fcn/final/50/2_50km_240.png'\n",
    "#ll = 2 # true label\n",
    "#IMAGE_SIZE_NEW = (224, 224)\n",
    "#fname = '/notebooks/images/test_fcn/final/50/2_50km_256.png'\n",
    "#ll = 2 # true label\n",
    "#IMAGE_SIZE_NEW = (240, 240)\n",
    "#fname = '/notebooks/images/test_fcn/final/50/2_50km_272.png'\n",
    "#ll = 2 # true label\n",
    "#IMAGE_SIZE_NEW = (256, 256)\n",
    "#fname = '/notebooks/images/test_fcn/final/50/2_50km_288.png'\n",
    "#ll = 2 # true label\n",
    "#IMAGE_SIZE_NEW = (272, 272)\n",
    "#fname = '/notebooks/images/test_fcn/final/50/2_50km_304.png'\n",
    "#ll = 2 # true label\n",
    "#IMAGE_SIZE_NEW = (288, 288)\n",
    "#fname = '/notebooks/images/test_fcn/final/50/2_50km_544.png'\n",
    "#ll = 2 # true label\n",
    "#IMAGE_SIZE_NEW = (544, 544)\n",
    "\n",
    "#fname = '/notebooks/images/test_fcn/final/priority/80.png'\n",
    "#ll = 12 # true label\n",
    "#IMAGE_SIZE_NEW = (80, 80)\n",
    "\n",
    "#fname = '/notebooks/images/test_fcn/final/priority/160.png'\n",
    "#ll = 12 # true label\n",
    "#IMAGE_SIZE_NEW = (160, 160)\n",
    "\n",
    "\n",
    "#fname = '/notebooks/images/test_fcn/final/30/160.png'\n",
    "#ll = 2 # true label\n",
    "#IMAGE_SIZE_NEW = (160, 160)\n",
    "#fname = '/notebooks/images/test_fcn/final/30/112.png'\n",
    "#ll = 1 # true label\n",
    "#IMAGE_SIZE_NEW = (112, 112)\n"
   ]
  },
  {
   "cell_type": "code",
   "execution_count": 339,
   "metadata": {},
   "outputs": [],
   "source": [
    "# 50 km/h\n",
    "ll = 2\n",
    "### 100%\n",
    "fname = '/notebooks/images/test_fcn/final/_50/48.png'\n",
    "IMAGE_SIZE_NEW = (32, 32)\n",
    "\n",
    "### 50%\n",
    "fname = '/notebooks/images/test_fcn/final/_50/68.png'\n",
    "IMAGE_SIZE_NEW = (48, 48)\n",
    "\n",
    "### 25%\n",
    "fname = '/notebooks/images/test_fcn/final/_50/96.png'\n",
    "IMAGE_SIZE_NEW = (68, 68)\n",
    "\n",
    "### 15%\n",
    "#fname = '/notebooks/images/test_fcn/final/_50/124.png'\n",
    "#IMAGE_SIZE_NEW = (96, 96)\n",
    "\n",
    "### 10%\n",
    "#fname = '/notebooks/images/test_fcn/final/_50/151.png'\n",
    "#IMAGE_SIZE_NEW = (124, 124)"
   ]
  },
  {
   "cell_type": "code",
   "execution_count": 340,
   "metadata": {},
   "outputs": [
    {
     "data": {
      "text/plain": [
       "<matplotlib.image.AxesImage at 0x7f82d71e3978>"
      ]
     },
     "execution_count": 340,
     "metadata": {},
     "output_type": "execute_result"
    },
    {
     "data": {
      "image/png": "[encoded data removed]",
      "text/plain": [
       "<matplotlib.figure.Figure at 0x7f82d7245a58>"
      ]
     },
     "metadata": {},
     "output_type": "display_data"
    }
   ],
   "source": [
    "import sys\n",
    "import scipy\n",
    "import skimage\n",
    "from skimage import io\n",
    "from skimage import transform\n",
    "from skimage.filters import gaussian\n",
    "\n",
    "import tensorflow as tf\n",
    "from keras.layers import Dense, Dropout, Flatten, merge\n",
    "from keras.layers import Convolution2D, MaxPooling2D\n",
    "from keras.utils import np_utils\n",
    "from keras.layers import Input, Dense\n",
    "from keras.models import Model\n",
    "from keras.optimizers import SGD\n",
    "from keras.models import model_from_json\n",
    "from keras.callbacks import LearningRateScheduler, ModelCheckpoint\n",
    "\n",
    "import my_mod_load as load\n",
    "import my_mod_manipulate_image as manipulate\n",
    "import numpy as np\n",
    "import settings\n",
    "\n",
    "\n",
    "from keras.models import Sequential\n",
    "from keras.layers.convolutional import Convolution2D\n",
    "from keras.engine import InputLayer\n",
    "import keras\n",
    "\n",
    "import matplotlib.pyplot as plt\n",
    "\n",
    "\n",
    "# load e normalizzazioen dell'immagine\n",
    "img = io.imread(fname)\n",
    "img = transform.resize(img, IMAGE_SIZE_NEW, order=3)\n",
    "img_original = img\n",
    "\n",
    "img = gaussian(img,.6,multichannel=True)*255\n",
    "img = manipulate.normalize_img(img.astype(np.uint8))\n",
    "img.shape = (1,) + img.shape\n",
    "\n",
    "# print dell'immagine originale\n",
    "plt.imshow(np.array(img_original.squeeze()))"
   ]
  },
  {
   "cell_type": "code",
   "execution_count": 341,
   "metadata": {},
   "outputs": [],
   "source": [
    "#model = '/scripts/models/2018-04-14_1245/model_108-108-100_ep20'\n",
    "model = '/notebooks/final_models/keras/2018-02-23_1203/model_108-108-100_ep40'\n",
    "\n",
    "json_file = open(\"{}.json\".format(model), 'r')\n",
    "loaded_model_json = json_file.read()\n",
    "json_file.close()\n",
    "loaded_model = model_from_json(loaded_model_json)\n",
    "loaded_model.load_weights(\"{}.h5\".format(model))\n",
    "\n",
    "#loaded_model.summary()"
   ]
  },
  {
   "cell_type": "code",
   "execution_count": 342,
   "metadata": {},
   "outputs": [
    {
     "name": "stdout",
     "output_type": "stream",
     "text": [
      "(None, 5, 5, 108)\n",
      "(None, 2700)\n",
      "100\n",
      "(5, 5, 108, 100)\n",
      "dimensioni nuovo kernel: \n",
      "5\n",
      "5\n",
      "(None, 100)\n",
      "43\n"
     ]
    }
   ],
   "source": [
    "new_model = Sequential()\n",
    "input_layer = InputLayer(input_shape=(None, None, 1), name=\"input_new\")\n",
    "new_model.add(input_layer)\n",
    "\n",
    "new_model.add(loaded_model.get_layer(\"conv2d_1\"))\n",
    "new_model.add(loaded_model.get_layer(\"conv2d_2\"))\n",
    "new_model.add(loaded_model.get_layer(\"max_pooling2d_1\"))\n",
    "#new_model.add(loaded_model.get_layer(\"dropout_1\"))\n",
    "new_model.add(loaded_model.get_layer(\"conv2d_3\"))\n",
    "new_model.add(loaded_model.get_layer(\"conv2d_4\"))\n",
    "new_model.add(loaded_model.get_layer(\"max_pooling2d_3\"))\n",
    "#new_model.add(loaded_model.get_layer(\"dropout_2\"))\n",
    "\n",
    "# first dense layer\n",
    "flatten_layer = loaded_model.get_layer(\"flatten_1\")\n",
    "flatten_dim = flatten_layer.input_shape\n",
    "print(flatten_dim)\n",
    "\n",
    "dense_layer = loaded_model.get_layer(\"dense_1\")\n",
    "input_shape_dense = dense_layer.input_shape\n",
    "print(input_shape_dense)\n",
    "output_dim_dense =  dense_layer.get_weights()[1].shape[0]\n",
    "print(output_dim_dense)\n",
    "W, b = dense_layer.get_weights()\n",
    "shape = (flatten_dim[1], flatten_dim[2], flatten_dim[3], output_dim_dense)\n",
    "print(shape)\n",
    "new_W = W.reshape(shape)\n",
    "print(\"dimensioni nuovo kernel: \")\n",
    "print(flatten_dim[1])\n",
    "print(flatten_dim[2])\n",
    "new_layer = Convolution2D(output_dim_dense,\n",
    "                         (flatten_dim[1], flatten_dim[2]),\n",
    "                         strides=(1, 1),\n",
    "                         activation=dense_layer.activation,\n",
    "                         padding='valid',\n",
    "                         weights=[new_W, b],\n",
    "                         name=\"conv2d_x1\")\n",
    "new_model.add(new_layer)\n",
    "\n",
    "#new_model.add(loaded_model.get_layer(\"dropout_3\"))\n",
    "\n",
    "# second dense layer\n",
    "dense_layer = loaded_model.get_layer(\"dense_2\")\n",
    "input_shape_dense = dense_layer.input_shape\n",
    "print(input_shape_dense)\n",
    "output_dim_dense =  dense_layer.get_weights()[1].shape[0]\n",
    "print(output_dim_dense)\n",
    "W, b = dense_layer.get_weights()\n",
    "shape = (1, 1, input_shape_dense[1], output_dim_dense)\n",
    "new_W = W.reshape(shape)\n",
    "new_layer = Convolution2D(output_dim_dense,\n",
    "                          (1, 1),\n",
    "                          strides=(1, 1),\n",
    "                          activation=dense_layer.activation,\n",
    "                          padding='valid',\n",
    "                          weights=[new_W, b],\n",
    "                          name=\"conv2d_x2\")\n",
    "new_model.add(new_layer)\n",
    "\n",
    "#print(new_model.summary())"
   ]
  },
  {
   "cell_type": "code",
   "execution_count": 343,
   "metadata": {
    "scrolled": false
   },
   "outputs": [
    {
     "name": "stdout",
     "output_type": "stream",
     "text": [
      "dimensione dell'otuput\n",
      "(1, 10, 10, 43)\n"
     ]
    }
   ],
   "source": [
    "predicted_proba = new_model.predict(img)\n",
    "print(\"dimensione dell'otuput\")\n",
    "print(predicted_proba.shape)"
   ]
  },
  {
   "cell_type": "code",
   "execution_count": 344,
   "metadata": {},
   "outputs": [
    {
     "name": "stdout",
     "output_type": "stream",
     "text": [
      "[(13, 21.330389), (12, 17.123701), (2, 12.143867), (18, 8.3575888), (15, 6.7003207), (32, 6.4643483), (35, 5.8305197), (33, 5.1492352), (4, 2.5424399), (42, 1.7778897), (38, 1.6884226), (7, 1.4071603), (26, 1.3596048), (29, 1.2711197), (8, 1.009598), (1, 0.88765776), (20, 0.69941223), (34, 0.66534442), (17, 0.53225285), (31, 0.35625869), (36, 0.31714553), (22, 0.27637669), (5, 0.23350093), (24, 0.21419683), (28, 0.1953097), (40, 0.16490646), (3, 0.16395323), (19, 0.13993295), (10, 0.13899656), (39, 0.13240121), (25, 0.10647573), (11, 0.09164653), (37, 0.091225795), (30, 0.072124302), (14, 0.071841545), (23, 0.06823165), (0, 0.052630194), (27, 0.04437083), (6, 0.040142477), (41, 0.030946307), (9, 0.022000024), (16, 0.018244244), (21, 0.016267207)]\n",
      "risutato:\n",
      "21.3304\n",
      "13\n",
      "right class:\n",
      "12.1439\n"
     ]
    }
   ],
   "source": [
    "import operator\n",
    "\n",
    "#print(\"dimensione immagine originale x,y e dimensione output x,y\")\n",
    "\n",
    "#print(IMAGE_SIZE_NEW[0])\n",
    "#print(IMAGE_SIZE_NEW[1])\n",
    "#num_1 = predicted_proba.shape[1]\n",
    "#num_2 = predicted_proba.shape[2]\n",
    "#print(num_1)\n",
    "#print(num_2)\n",
    "\n",
    "\n",
    "sums = {}\n",
    "my_max = 0\n",
    "my_sum = 0\n",
    "my_class = -1\n",
    "for i in range(0, 43):\n",
    "#    print(i)\n",
    "    matrix = predicted_proba[:,:,:,i]\n",
    "    my_sum = matrix.sum()\n",
    "    sums[i] = my_sum\n",
    "    #print(\"{}: {}\".format(i, my_sum))\n",
    "    if my_sum >= my_max:\n",
    "        my_max = my_sum\n",
    "        my_class = i       \n",
    "\n",
    "sorted_x = sorted(sums.items(), key=operator.itemgetter(1), reverse=True)\n",
    "print(sorted_x)\n",
    "print(\"risutato:\")\n",
    "print(my_max)\n",
    "print(my_class)\n",
    "print(\"right class:\")\n",
    "print(predicted_proba[:,:,:,ll].sum())\n"
   ]
  },
  {
   "cell_type": "code",
   "execution_count": 345,
   "metadata": {},
   "outputs": [],
   "source": [
    "#ll = my_class\n",
    "#ll=17"
   ]
  },
  {
   "cell_type": "code",
   "execution_count": null,
   "metadata": {},
   "outputs": [],
   "source": []
  },
  {
   "cell_type": "code",
   "execution_count": null,
   "metadata": {},
   "outputs": [],
   "source": []
  },
  {
   "cell_type": "code",
   "execution_count": null,
   "metadata": {},
   "outputs": [],
   "source": []
  },
  {
   "cell_type": "code",
   "execution_count": null,
   "metadata": {},
   "outputs": [],
   "source": []
  },
  {
   "cell_type": "code",
   "execution_count": null,
   "metadata": {},
   "outputs": [],
   "source": []
  },
  {
   "cell_type": "code",
   "execution_count": null,
   "metadata": {},
   "outputs": [],
   "source": []
  },
  {
   "cell_type": "code",
   "execution_count": null,
   "metadata": {},
   "outputs": [],
   "source": []
  },
  {
   "cell_type": "code",
   "execution_count": null,
   "metadata": {},
   "outputs": [],
   "source": []
  },
  {
   "cell_type": "code",
   "execution_count": null,
   "metadata": {},
   "outputs": [],
   "source": []
  },
  {
   "cell_type": "code",
   "execution_count": null,
   "metadata": {},
   "outputs": [],
   "source": []
  },
  {
   "cell_type": "code",
   "execution_count": null,
   "metadata": {},
   "outputs": [],
   "source": []
  },
  {
   "cell_type": "code",
   "execution_count": 346,
   "metadata": {},
   "outputs": [
    {
     "name": "stdout",
     "output_type": "stream",
     "text": [
      "dimensione immagine originale x,y e dimensione output x,y\n",
      "68\n",
      "68\n",
      "10\n",
      "10\n",
      "0.0 0.0 1.0 1.0 1.0 0.0 0.0 0.0 0.0 0.0 \n",
      "0.0 0.6 1.0 1.0 1.0 0.0 0.0 0.0 0.0 0.0 \n",
      "0.0 0.4 1.0 1.0 1.0 0.0 0.0 0.0 0.0 0.0 \n",
      "0.0 0.0 0.9 1.0 0.2 0.0 0.0 0.0 0.0 0.0 \n",
      "0.0 0.0 0.0 0.0 0.0 0.0 0.0 0.0 0.0 0.0 \n",
      "0.0 0.0 0.0 0.0 0.0 0.0 0.0 0.0 0.0 0.0 \n",
      "0.0 0.0 0.0 0.0 0.0 0.0 0.0 0.0 0.0 0.0 \n",
      "0.0 0.0 0.0 0.0 0.0 0.0 0.0 0.0 0.0 0.0 \n",
      "0.0 0.0 0.0 0.0 0.0 0.0 0.0 0.0 0.0 0.0 \n",
      "0.0 0.0 0.0 0.0 0.0 0.0 0.0 0.0 0.0 0.0 \n"
     ]
    },
    {
     "data": {
      "image/png": "[encoded data removed]",
      "text/plain": [
       "<matplotlib.figure.Figure at 0x7f82d73ea5c0>"
      ]
     },
     "metadata": {},
     "output_type": "display_data"
    }
   ],
   "source": [
    "print(\"dimensione immagine originale x,y e dimensione output x,y\")\n",
    "\n",
    "print(IMAGE_SIZE_NEW[0])\n",
    "print(IMAGE_SIZE_NEW[1])\n",
    "num_1 = predicted_proba.shape[1]\n",
    "num_2 = predicted_proba.shape[2]\n",
    "print(num_1)\n",
    "print(num_2)\n",
    "\n",
    "original_matrix = [[0 for x in range(num_2)] for y in range(num_1)]\n",
    "m = 0\n",
    "for i in range(0, num_1):\n",
    "    for j in range(0, num_2):\n",
    "        #original_matrix[i][j] = i1\n",
    "        prob = round(predicted_proba[0][i][j][ll], 1)\n",
    "        original_matrix[i][j] = float(\"{0:.2f}\".format(prob))\n",
    "        #original_matrix[i][j] = round(prob, 3)\n",
    "        \n",
    "#        if prob > min_prob:\n",
    "#            original_matrix[i][j] \n",
    "#        else:\n",
    "#            original_matrix[i][j] = -255\n",
    "#print(original_matrix)\n",
    "original_matrix = np.array(original_matrix)\n",
    "#original_matrix = np.ma.masked_where(original_matrix < 0, original_matrix)\n",
    "plt.imshow(original_matrix)\n",
    "#print(original_matrix)\n",
    "#print(str(original_matrix)[1:-1])\n",
    "\n",
    "for i in range(0, num_1):\n",
    "    for j in range(0, num_2):\n",
    "        print(original_matrix[i][j], end=\" \")\n",
    "    print()"
   ]
  },
  {
   "cell_type": "code",
   "execution_count": 347,
   "metadata": {},
   "outputs": [
    {
     "data": {
      "text/plain": [
       "<matplotlib.image.AxesImage at 0x7f82d7f619b0>"
      ]
     },
     "execution_count": 347,
     "metadata": {},
     "output_type": "execute_result"
    },
    {
     "data": {
      "image/png": "[encoded data removed]",
      "text/plain": [
       "<matplotlib.figure.Figure at 0x7f82d739e278>"
      ]
     },
     "metadata": {},
     "output_type": "display_data"
    }
   ],
   "source": [
    "resized = scipy.ndimage.zoom(predicted_proba, (1,IMAGE_SIZE_NEW[0]/predicted_proba.shape[1],\n",
    "                                               IMAGE_SIZE_NEW[1]/predicted_proba.shape[2], 1), order=0)\n",
    "\n",
    "#print(predicted_proba)\n",
    "#print(resized.shape[2])\n",
    "num_1 = resized.shape[1]\n",
    "num_2 = resized.shape[2]\n",
    "new_matrix = [[0 for x in range(num_2)] for y in range(num_1)]\n",
    "m = 0\n",
    "for i in range(0, num_1):\n",
    "    for j in range(0, num_2):\n",
    "        #original_matrix[i][j] = i1\n",
    "        prob = round(resized[0][i][j][ll], 1)\n",
    "        new_matrix[i][j] = prob\n",
    "#        if prob > min_prob:\n",
    "#            original_matrix[i][j] \n",
    "#        else:\n",
    "#            original_matrix[i][j] = -255\n",
    "#print(original_matrix)\n",
    "new_matrix = np.array(new_matrix)\n",
    "#original_matrix = np.ma.masked_where(original_matrix < 0, original_matrix)\n",
    "plt.imshow(new_matrix)\n",
    "#print(new_matrix)"
   ]
  },
  {
   "cell_type": "code",
   "execution_count": 348,
   "metadata": {},
   "outputs": [],
   "source": [
    "#from collections import Counter\n",
    "#count = Counter(original_matrix)\n",
    "#Counter({'a': 2, 'c': 2, 'b': 1, 'd': 1})\n",
    "#count.most_common()\n",
    "#print(original_matrix)"
   ]
  },
  {
   "cell_type": "code",
   "execution_count": 349,
   "metadata": {},
   "outputs": [],
   "source": [
    "#new_matrix = np.array(new_matrix)\n",
    "#new_matrix = (new_matrix/255)\n",
    "#print(new_matrix[40])"
   ]
  },
  {
   "cell_type": "code",
   "execution_count": 350,
   "metadata": {},
   "outputs": [
    {
     "data": {
      "image/png": "[encoded data removed]",
      "text/plain": [
       "<matplotlib.figure.Figure at 0x7f82d7fb9748>"
      ]
     },
     "metadata": {},
     "output_type": "display_data"
    }
   ],
   "source": [
    "import numpy as np\n",
    "import matplotlib.pyplot as plt\n",
    "import matplotlib.cm as cm\n",
    "\n",
    "# Generate some data...\n",
    "#gray_data = np.arange(10000).reshape(100, 100)\n",
    "\n",
    "#masked_data = np.random.random(IMAGE_SIZE_NEW)\n",
    "\n",
    "masked_data = np.ma.masked_where(new_matrix < -1, new_matrix)\n",
    "#masked_data = np.dot(masked_data, 10)\n",
    "# Overlay the two images\n",
    "fig, ax = plt.subplots()\n",
    "ax.imshow(img_original, cmap=cm.gray)\n",
    "ax.imshow(masked_data, cmap=cm.jet, alpha=0.3)\n",
    "plt.show()"
   ]
  }
 ],
 "metadata": {
  "kernelspec": {
   "display_name": "Python 3",
   "language": "python",
   "name": "python3"
  },
  "language_info": {
   "codemirror_mode": {
    "name": "ipython",
    "version": 3
   },
   "file_extension": ".py",
   "mimetype": "text/x-python",
   "name": "python",
   "nbconvert_exporter": "python",
   "pygments_lexer": "ipython3",
   "version": "3.6.2"
  }
 },
 "nbformat": 4,
 "nbformat_minor": 2
}
