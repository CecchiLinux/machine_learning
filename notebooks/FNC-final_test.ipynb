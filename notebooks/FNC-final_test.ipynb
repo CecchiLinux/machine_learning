{
 "cells": [
  {
   "cell_type": "code",
   "execution_count": 278,
   "metadata": {},
   "outputs": [
    {
     "data": {
      "text/html": [
       "<style>.container { width:100% !important; }</style>"
      ],
      "text/plain": [
       "<IPython.core.display.HTML object>"
      ]
     },
     "metadata": {},
     "output_type": "display_data"
    }
   ],
   "source": [
    "from IPython.core.display import display, HTML\n",
    "display(HTML(\"<style>.container { width:100% !important; }</style>\"))"
   ]
  },
  {
   "cell_type": "code",
   "execution_count": 279,
   "metadata": {},
   "outputs": [],
   "source": [
    "########### no entry\n",
    "ll = 17\n",
    "\n",
    "### 100%\n",
    "fname = '/notebooks/images/test_fcn/final/no_entry/76.png'\n",
    "IMAGE_SIZE_NEW = (32, 32)\n",
    "\n",
    "### 50%\n",
    "fname = '/notebooks/images/test_fcn/final/no_entry/107.png'\n",
    "IMAGE_SIZE_NEW = (64, 64)\n",
    "\n",
    "### 25%\n",
    "fname = '/notebooks/images/test_fcn/final/no_entry/152.png'\n",
    "IMAGE_SIZE_NEW = (128, 128)\n",
    "\n",
    "### 15%\n",
    "fname = '/notebooks/images/test_fcn/final/no_entry/196.png'\n",
    "IMAGE_SIZE_NEW = (156, 156)\n",
    "\n",
    "### 10%\n",
    "fname = '/notebooks/images/test_fcn/final/no_entry/240.png'\n",
    "IMAGE_SIZE_NEW = (184, 184)"
   ]
  },
  {
   "cell_type": "code",
   "execution_count": 280,
   "metadata": {},
   "outputs": [],
   "source": [
    "########### go right km/h\n",
    "ll = 38 \n",
    "\n",
    "### 100%\n",
    "fname = '/notebooks/images/test_fcn/final/keep_right/89.png'\n",
    "IMAGE_SIZE_NEW = (32, 32)\n",
    "\n",
    "### 50%\n",
    "fname = '/notebooks/images/test_fcn/final/keep_right/125.png'\n",
    "IMAGE_SIZE_NEW = (64, 64)\n",
    "\n",
    "### 25%\n",
    "fname = '/notebooks/images/test_fcn/final/keep_right/178.png'\n",
    "IMAGE_SIZE_NEW = (128, 128)\n",
    "\n",
    "### 15%\n",
    "fname = '/notebooks/images/test_fcn/final/keep_right/230.png'\n",
    "IMAGE_SIZE_NEW = (156, 156)\n",
    "\n",
    "### 10%\n",
    "fname = '/notebooks/images/test_fcn/final/keep_right/280.png'\n",
    "IMAGE_SIZE_NEW = (184, 184)"
   ]
  },
  {
   "cell_type": "code",
   "execution_count": 281,
   "metadata": {},
   "outputs": [],
   "source": [
    "########### 50 km/h\n",
    "ll = 2\n",
    "\n",
    "### 100%\n",
    "fname = '/notebooks/images/test_fcn/final/_50/48.png'\n",
    "IMAGE_SIZE_NEW = (32, 32)\n",
    "\n",
    "### 50%\n",
    "fname = '/notebooks/images/test_fcn/final/_50/68.png'\n",
    "IMAGE_SIZE_NEW = (64, 64)\n",
    "\n",
    "### 25%\n",
    "fname = '/notebooks/images/test_fcn/final/_50/96.png'\n",
    "IMAGE_SIZE_NEW = (128, 128)\n",
    "\n",
    "### 15%\n",
    "fname = '/notebooks/images/test_fcn/final/_50/124.png'\n",
    "IMAGE_SIZE_NEW = (156, 156)\n",
    "\n",
    "### 10%\n",
    "fname = '/notebooks/images/test_fcn/final/_50/151.png'\n",
    "IMAGE_SIZE_NEW = (184, 184)"
   ]
  },
  {
   "cell_type": "code",
   "execution_count": 282,
   "metadata": {},
   "outputs": [],
   "source": [
    "################ priority_2\n",
    "ll = 12\n",
    "\n",
    "fname = '/notebooks/images/test_fcn/final/priority_2/126.jpg'\n",
    "IMAGE_SIZE_NEW = (32, 32)\n",
    "\n",
    "fname = '/notebooks/images/test_fcn/final/priority_2/176.jpg'\n",
    "IMAGE_SIZE_NEW = (64, 64)\n",
    "\n",
    "fname = '/notebooks/images/test_fcn/final/priority_2/252.jpg'\n",
    "IMAGE_SIZE_NEW = (128, 128)\n",
    "\n",
    "fname = '/notebooks/images/test_fcn/final/priority_2/326.jpg'\n",
    "IMAGE_SIZE_NEW = (156, 156)\n",
    "\n",
    "fname = '/notebooks/images/test_fcn/final/priority_2/398.jpg'\n",
    "IMAGE_SIZE_NEW = (184, 184)"
   ]
  },
  {
   "cell_type": "code",
   "execution_count": 283,
   "metadata": {},
   "outputs": [],
   "source": [
    "################ yield\n",
    "ll = 13\n",
    "\n",
    "fname = '/notebooks/images/test_fcn/final/yield/68.png'\n",
    "IMAGE_SIZE_NEW = (32, 32)\n",
    "\n",
    "fname = '/notebooks/images/test_fcn/final/yield/96.png'\n",
    "IMAGE_SIZE_NEW = (64, 64)\n",
    "\n",
    "fname = '/notebooks/images/test_fcn/final/yield/136.png'\n",
    "IMAGE_SIZE_NEW = (128, 128)\n",
    "\n",
    "fname = '/notebooks/images/test_fcn/final/yield/176.png'\n",
    "IMAGE_SIZE_NEW = (156, 156)\n",
    "\n",
    "fname = '/notebooks/images/test_fcn/final/yield/214.png'\n",
    "IMAGE_SIZE_NEW = (184, 184)"
   ]
  },
  {
   "cell_type": "code",
   "execution_count": 284,
   "metadata": {},
   "outputs": [],
   "source": [
    "################ road_narrows_on_the_right\n",
    "ll = 24\n",
    "\n",
    "fname = '/notebooks/images/test_fcn/final/road_narrows_on_the_right/58.png'\n",
    "IMAGE_SIZE_NEW = (32, 32)\n",
    "\n",
    "fname = '/notebooks/images/test_fcn/final/road_narrows_on_the_right/82.png'\n",
    "IMAGE_SIZE_NEW = (64, 64)\n",
    "\n",
    "fname = '/notebooks/images/test_fcn/final/road_narrows_on_the_right/116.png'\n",
    "IMAGE_SIZE_NEW = (128, 128)\n",
    "\n",
    "fname = '/notebooks/images/test_fcn/final/road_narrows_on_the_right/150.png'\n",
    "IMAGE_SIZE_NEW = (156, 156)\n",
    "\n",
    "fname = '/notebooks/images/test_fcn/final/road_narrows_on_the_right/182.png'\n",
    "IMAGE_SIZE_NEW = (184, 184)"
   ]
  },
  {
   "cell_type": "code",
   "execution_count": 285,
   "metadata": {},
   "outputs": [],
   "source": [
    "################ 30\n",
    "ll = 1\n",
    "\n",
    "fname = '/notebooks/images/test_fcn/final/30/52.png'\n",
    "IMAGE_SIZE_NEW = (32, 32)\n",
    "\n",
    "fname = '/notebooks/images/test_fcn/final/30/74.png'\n",
    "IMAGE_SIZE_NEW = (64, 64)\n",
    "\n",
    "#fname = '/notebooks/images/test_fcn/final/30/104.png'\n",
    "#IMAGE_SIZE_NEW = (128, 128)\n",
    "\n",
    "#fname = '/notebooks/images/test_fcn/final/30/134.png'\n",
    "#IMAGE_SIZE_NEW = (156, 156)\n",
    "\n",
    "#fname = '/notebooks/images/test_fcn/final/30/164.png'\n",
    "#IMAGE_SIZE_NEW = (184, 184)"
   ]
  },
  {
   "cell_type": "code",
   "execution_count": 286,
   "metadata": {},
   "outputs": [
    {
     "data": {
      "text/plain": [
       "<matplotlib.image.AxesImage at 0x7f28cd7a1a20>"
      ]
     },
     "execution_count": 286,
     "metadata": {},
     "output_type": "execute_result"
    },
    {
     "data": {
      "image/png": "[encoded data removed]",
      "text/plain": [
       "<matplotlib.figure.Figure at 0x7f28fdaa6898>"
      ]
     },
     "metadata": {},
     "output_type": "display_data"
    }
   ],
   "source": [
    "import sys\n",
    "import scipy\n",
    "import skimage\n",
    "from skimage import io\n",
    "from skimage import transform\n",
    "from skimage.filters import gaussian\n",
    "\n",
    "import tensorflow as tf\n",
    "from keras.layers import Dense, Dropout, Flatten, merge\n",
    "from keras.layers import Convolution2D, MaxPooling2D\n",
    "from keras.utils import np_utils\n",
    "from keras.layers import Input, Dense\n",
    "from keras.models import Model\n",
    "from keras.optimizers import SGD\n",
    "from keras.models import model_from_json\n",
    "from keras.callbacks import LearningRateScheduler, ModelCheckpoint\n",
    "\n",
    "import my_mod_load as load\n",
    "import my_mod_manipulate_image as manipulate\n",
    "import numpy as np\n",
    "import settings\n",
    "\n",
    "\n",
    "from keras.models import Sequential\n",
    "from keras.layers.convolutional import Convolution2D\n",
    "from keras.engine import InputLayer\n",
    "import keras\n",
    "\n",
    "import matplotlib.pyplot as plt\n",
    "\n",
    "\n",
    "# load e normalizzazioen dell'immagine\n",
    "img = io.imread(fname)\n",
    "img = transform.resize(img, IMAGE_SIZE_NEW, order=3)\n",
    "img_original = img\n",
    "\n",
    "img = gaussian(img,.6,multichannel=True)*255\n",
    "img = manipulate.normalize_img(img.astype(np.uint8))\n",
    "img.shape = (1,) + img.shape\n",
    "\n",
    "# print dell'immagine originale\n",
    "plt.imshow(np.array(img_original.squeeze()))"
   ]
  },
  {
   "cell_type": "code",
   "execution_count": 287,
   "metadata": {},
   "outputs": [],
   "source": [
    "#model = '/scripts/models/2018-04-14_1245/model_108-108-100_ep20'\n",
    "model = '/notebooks/final_models/keras/2018-02-23_1203/model_108-108-100_ep40'\n",
    "\n",
    "json_file = open(\"{}.json\".format(model), 'r')\n",
    "loaded_model_json = json_file.read()\n",
    "json_file.close()\n",
    "loaded_model = model_from_json(loaded_model_json)\n",
    "loaded_model.load_weights(\"{}.h5\".format(model))\n",
    "\n",
    "#loaded_model.summary()"
   ]
  },
  {
   "cell_type": "code",
   "execution_count": 288,
   "metadata": {},
   "outputs": [
    {
     "name": "stdout",
     "output_type": "stream",
     "text": [
      "(None, 5, 5, 108)\n",
      "(None, 2700)\n",
      "100\n",
      "(5, 5, 108, 100)\n",
      "dimensioni nuovo kernel: \n",
      "5\n",
      "5\n",
      "(None, 100)\n",
      "43\n"
     ]
    }
   ],
   "source": [
    "new_model = Sequential()\n",
    "input_layer = InputLayer(input_shape=(None, None, 1), name=\"input_new\")\n",
    "new_model.add(input_layer)\n",
    "\n",
    "new_model.add(loaded_model.get_layer(\"conv2d_1\"))\n",
    "new_model.add(loaded_model.get_layer(\"conv2d_2\"))\n",
    "new_model.add(loaded_model.get_layer(\"max_pooling2d_1\"))\n",
    "#new_model.add(loaded_model.get_layer(\"dropout_1\"))\n",
    "new_model.add(loaded_model.get_layer(\"conv2d_3\"))\n",
    "new_model.add(loaded_model.get_layer(\"conv2d_4\"))\n",
    "new_model.add(loaded_model.get_layer(\"max_pooling2d_3\"))\n",
    "#new_model.add(loaded_model.get_layer(\"dropout_2\"))\n",
    "\n",
    "# first dense layer\n",
    "flatten_layer = loaded_model.get_layer(\"flatten_1\")\n",
    "flatten_dim = flatten_layer.input_shape\n",
    "print(flatten_dim)\n",
    "\n",
    "dense_layer = loaded_model.get_layer(\"dense_1\")\n",
    "input_shape_dense = dense_layer.input_shape\n",
    "print(input_shape_dense)\n",
    "output_dim_dense =  dense_layer.get_weights()[1].shape[0]\n",
    "print(output_dim_dense)\n",
    "W, b = dense_layer.get_weights()\n",
    "shape = (flatten_dim[1], flatten_dim[2], flatten_dim[3], output_dim_dense)\n",
    "print(shape)\n",
    "new_W = W.reshape(shape)\n",
    "print(\"dimensioni nuovo kernel: \")\n",
    "print(flatten_dim[1])\n",
    "print(flatten_dim[2])\n",
    "new_layer = Convolution2D(output_dim_dense,\n",
    "                         (flatten_dim[1], flatten_dim[2]),\n",
    "                         strides=(1, 1),\n",
    "                         activation=dense_layer.activation,\n",
    "                         padding='valid',\n",
    "                         weights=[new_W, b],\n",
    "                         name=\"conv2d_x1\")\n",
    "new_model.add(new_layer)\n",
    "\n",
    "#new_model.add(loaded_model.get_layer(\"dropout_3\"))\n",
    "\n",
    "# second dense layer\n",
    "dense_layer = loaded_model.get_layer(\"dense_2\")\n",
    "input_shape_dense = dense_layer.input_shape\n",
    "print(input_shape_dense)\n",
    "output_dim_dense =  dense_layer.get_weights()[1].shape[0]\n",
    "print(output_dim_dense)\n",
    "W, b = dense_layer.get_weights()\n",
    "shape = (1, 1, input_shape_dense[1], output_dim_dense)\n",
    "new_W = W.reshape(shape)\n",
    "new_layer = Convolution2D(output_dim_dense,\n",
    "                          (1, 1),\n",
    "                          strides=(1, 1),\n",
    "                          activation=dense_layer.activation,\n",
    "                          padding='valid',\n",
    "                          weights=[new_W, b],\n",
    "                          name=\"conv2d_x2\")\n",
    "new_model.add(new_layer)\n",
    "\n",
    "#print(new_model.summary())"
   ]
  },
  {
   "cell_type": "code",
   "execution_count": 289,
   "metadata": {
    "scrolled": false
   },
   "outputs": [
    {
     "name": "stdout",
     "output_type": "stream",
     "text": [
      "dimensione dell'otuput\n",
      "(1, 9, 9, 43)\n"
     ]
    }
   ],
   "source": [
    "predicted_proba = new_model.predict(img)\n",
    "print(\"dimensione dell'otuput\")\n",
    "print(predicted_proba.shape)"
   ]
  },
  {
   "cell_type": "code",
   "execution_count": 290,
   "metadata": {},
   "outputs": [
    {
     "name": "stdout",
     "output_type": "stream",
     "text": [
      "[(17, 16.392742), (18, 11.50423), (12, 10.503975), (32, 8.5562992), (1, 7.1707897), (38, 3.0316989), (19, 2.890044), (13, 2.5964966), (39, 2.4306014), (4, 1.8561665), (29, 1.7240491), (15, 1.6147879), (8, 1.4891195), (34, 1.0704386), (31, 1.0681453), (26, 0.86693853), (33, 0.83514428), (0, 0.82681453), (41, 0.79105294), (20, 0.6241433), (35, 0.51377088), (42, 0.48061469), (25, 0.37842244), (6, 0.23605108), (9, 0.20224731), (22, 0.16810761), (5, 0.14866063), (16, 0.14611393), (2, 0.13959731), (10, 0.12767927), (37, 0.098589629), (7, 0.096063457), (24, 0.077402823), (36, 0.076279111), (14, 0.053315628), (23, 0.044032771), (11, 0.034919318), (28, 0.029697467), (3, 0.02713464), (27, 0.026152331), (30, 0.020075258), (40, 0.018243652), (21, 0.013154021)]\n",
      "risutato:\n",
      "16.3927\n",
      "17\n",
      "right class:\n",
      "7.17079\n"
     ]
    }
   ],
   "source": [
    "import operator\n",
    "\n",
    "#print(\"dimensione immagine originale x,y e dimensione output x,y\")\n",
    "\n",
    "#print(IMAGE_SIZE_NEW[0])\n",
    "#print(IMAGE_SIZE_NEW[1])\n",
    "#num_1 = predicted_proba.shape[1]\n",
    "#num_2 = predicted_proba.shape[2]\n",
    "#print(num_1)\n",
    "#print(num_2)\n",
    "\n",
    "\n",
    "sums = {}\n",
    "my_max = 0\n",
    "my_sum = 0\n",
    "my_class = -1\n",
    "for i in range(0, 43):\n",
    "#    print(i)\n",
    "    matrix = predicted_proba[:,:,:,i]\n",
    "    my_sum = matrix.sum()\n",
    "    sums[i] = my_sum\n",
    "    #print(\"{}: {}\".format(i, my_sum))\n",
    "    if my_sum >= my_max:\n",
    "        my_max = my_sum\n",
    "        my_class = i       \n",
    "\n",
    "sorted_x = sorted(sums.items(), key=operator.itemgetter(1), reverse=True)\n",
    "print(sorted_x)\n",
    "print(\"risutato:\")\n",
    "print(my_max)\n",
    "print(my_class)\n",
    "print(\"right class:\")\n",
    "print(predicted_proba[:,:,:,ll].sum())\n"
   ]
  },
  {
   "cell_type": "code",
   "execution_count": null,
   "metadata": {},
   "outputs": [],
   "source": []
  },
  {
   "cell_type": "code",
   "execution_count": null,
   "metadata": {},
   "outputs": [],
   "source": []
  },
  {
   "cell_type": "code",
   "execution_count": null,
   "metadata": {},
   "outputs": [],
   "source": []
  },
  {
   "cell_type": "code",
   "execution_count": null,
   "metadata": {},
   "outputs": [],
   "source": []
  },
  {
   "cell_type": "code",
   "execution_count": null,
   "metadata": {},
   "outputs": [],
   "source": []
  },
  {
   "cell_type": "code",
   "execution_count": null,
   "metadata": {},
   "outputs": [],
   "source": []
  },
  {
   "cell_type": "code",
   "execution_count": null,
   "metadata": {},
   "outputs": [],
   "source": []
  },
  {
   "cell_type": "code",
   "execution_count": null,
   "metadata": {},
   "outputs": [],
   "source": []
  },
  {
   "cell_type": "code",
   "execution_count": null,
   "metadata": {},
   "outputs": [],
   "source": []
  },
  {
   "cell_type": "code",
   "execution_count": null,
   "metadata": {},
   "outputs": [],
   "source": []
  },
  {
   "cell_type": "code",
   "execution_count": null,
   "metadata": {},
   "outputs": [],
   "source": []
  },
  {
   "cell_type": "code",
   "execution_count": 291,
   "metadata": {},
   "outputs": [
    {
     "name": "stdout",
     "output_type": "stream",
     "text": [
      "dimensione immagine originale x,y e dimensione output x,y\n",
      "64\n",
      "64\n",
      "9\n",
      "9\n",
      "--- --- --- --- --- --- --- --- --- \n",
      "--- --- --- --- --- --- --- --- --- \n",
      "--- --- --- 0.2 0.3 --- --- --- --- \n",
      "--- --- 0.1 0.8 1.0 --- --- --- --- \n",
      "--- --- 0.4 1.0 1.0 0.2 --- --- --- \n",
      "--- --- 0.3 0.9 1.0 0.1 --- --- --- \n",
      "--- --- --- --- --- --- --- --- --- \n",
      "--- --- --- --- --- --- --- --- --- \n",
      "--- --- --- --- --- --- --- --- --- \n"
     ]
    },
    {
     "data": {
      "image/png": "[encoded data removed]",
      "text/plain": [
       "<matplotlib.figure.Figure at 0x7f28cd481c50>"
      ]
     },
     "metadata": {},
     "output_type": "display_data"
    }
   ],
   "source": [
    "print(\"dimensione immagine originale x,y e dimensione output x,y\")\n",
    "\n",
    "print(IMAGE_SIZE_NEW[0])\n",
    "print(IMAGE_SIZE_NEW[1])\n",
    "num_1 = predicted_proba.shape[1]\n",
    "num_2 = predicted_proba.shape[2]\n",
    "print(num_1)\n",
    "print(num_2)\n",
    "\n",
    "original_matrix = [[0 for x in range(num_2)] for y in range(num_1)]\n",
    "m = 0\n",
    "for i in range(0, num_1):\n",
    "    for j in range(0, num_2):\n",
    "        #original_matrix[i][j] = i1\n",
    "        prob = round(predicted_proba[0][i][j][ll], 1)\n",
    "        original_matrix[i][j] = float(\"{0:.2f}\".format(prob))\n",
    "        #original_matrix[i][j] = round(prob, 3)\n",
    "        \n",
    "#        if prob > min_prob:\n",
    "#            original_matrix[i][j] \n",
    "#        else:\n",
    "#            original_matrix[i][j] = -255\n",
    "#print(original_matrix)\n",
    "original_matrix = np.array(original_matrix)\n",
    "#original_matrix = np.ma.masked_where(original_matrix < 0, original_matrix)\n",
    "plt.imshow(original_matrix)\n",
    "#print(original_matrix)\n",
    "#print(str(original_matrix)[1:-1])\n",
    "\n",
    "for i in range(0, num_1):\n",
    "    for j in range(0, num_2):\n",
    "        if original_matrix[i][j] > 0:\n",
    "            print(original_matrix[i][j], end=\" \")\n",
    "        else:\n",
    "            print(\"---\", end=\" \")\n",
    "    print()"
   ]
  },
  {
   "cell_type": "code",
   "execution_count": 292,
   "metadata": {},
   "outputs": [
    {
     "data": {
      "text/plain": [
       "<matplotlib.image.AxesImage at 0x7f28cd40f9b0>"
      ]
     },
     "execution_count": 292,
     "metadata": {},
     "output_type": "execute_result"
    },
    {
     "data": {
      "image/png": "[encoded data removed]",
      "text/plain": [
       "<matplotlib.figure.Figure at 0x7f28cd5204e0>"
      ]
     },
     "metadata": {},
     "output_type": "display_data"
    }
   ],
   "source": [
    "resized = scipy.ndimage.zoom(predicted_proba, (1,IMAGE_SIZE_NEW[0]/predicted_proba.shape[1],\n",
    "                                               IMAGE_SIZE_NEW[1]/predicted_proba.shape[2], 1), order=0)\n",
    "\n",
    "#print(predicted_proba)\n",
    "#print(resized.shape[2])\n",
    "num_1 = resized.shape[1]\n",
    "num_2 = resized.shape[2]\n",
    "new_matrix = [[0 for x in range(num_2)] for y in range(num_1)]\n",
    "m = 0\n",
    "for i in range(0, num_1):\n",
    "    for j in range(0, num_2):\n",
    "        #original_matrix[i][j] = i1\n",
    "        prob = round(resized[0][i][j][ll], 1)\n",
    "        new_matrix[i][j] = prob\n",
    "#        if prob > min_prob:\n",
    "#            original_matrix[i][j] \n",
    "#        else:\n",
    "#            original_matrix[i][j] = -255\n",
    "#print(original_matrix)\n",
    "new_matrix = np.array(new_matrix)\n",
    "#original_matrix = np.ma.masked_where(original_matrix < 0, original_matrix)\n",
    "plt.imshow(new_matrix)\n",
    "#print(new_matrix)"
   ]
  },
  {
   "cell_type": "code",
   "execution_count": 293,
   "metadata": {},
   "outputs": [],
   "source": [
    "#from collections import Counter\n",
    "#count = Counter(original_matrix)\n",
    "#Counter({'a': 2, 'c': 2, 'b': 1, 'd': 1})\n",
    "#count.most_common()\n",
    "#print(original_matrix)"
   ]
  },
  {
   "cell_type": "code",
   "execution_count": 294,
   "metadata": {},
   "outputs": [],
   "source": [
    "#new_matrix = np.array(new_matrix)\n",
    "#new_matrix = (new_matrix/255)\n",
    "#print(new_matrix[40])"
   ]
  },
  {
   "cell_type": "code",
   "execution_count": 295,
   "metadata": {},
   "outputs": [
    {
     "data": {
      "image/png": "[encoded data removed]",
      "text/plain": [
       "<matplotlib.figure.Figure at 0x7f28cd5022b0>"
      ]
     },
     "metadata": {},
     "output_type": "display_data"
    }
   ],
   "source": [
    "import numpy as np\n",
    "import matplotlib.pyplot as plt\n",
    "import matplotlib.cm as cm\n",
    "\n",
    "# Generate some data...\n",
    "#gray_data = np.arange(10000).reshape(100, 100)\n",
    "\n",
    "#masked_data = np.random.random(IMAGE_SIZE_NEW)\n",
    "\n",
    "masked_data = np.ma.masked_where(new_matrix < -1, new_matrix)\n",
    "#masked_data = np.dot(masked_data, 10)\n",
    "# Overlay the two images\n",
    "fig, ax = plt.subplots()\n",
    "ax.imshow(img_original, cmap=cm.gray)\n",
    "ax.imshow(masked_data, cmap=cm.jet, alpha=0.6)\n",
    "plt.show()"
   ]
  }
 ],
 "metadata": {
  "kernelspec": {
   "display_name": "Python 3",
   "language": "python",
   "name": "python3"
  },
  "language_info": {
   "codemirror_mode": {
    "name": "ipython",
    "version": 3
   },
   "file_extension": ".py",
   "mimetype": "text/x-python",
   "name": "python",
   "nbconvert_exporter": "python",
   "pygments_lexer": "ipython3",
   "version": "3.6.2"
  }
 },
 "nbformat": 4,
 "nbformat_minor": 2
}
