{
 "cells": [
  {
   "cell_type": "code",
   "execution_count": 384,
   "metadata": {},
   "outputs": [],
   "source": [
    "# considera solo le probabilità superiori a:\n",
    "min_prob = 0.1\n",
    "\n",
    "# ----------------------------------------------------------------------- #\n",
    "# seleziona un'immagine e la dimensione con la quale la vuoi caricare     #\n",
    "# ----------------------------------------------------------------------- #\n",
    "\n",
    "#fname = '/notebooks/images/test_fcn/signs.jpeg'\n",
    "#IMAGE_SIZE_NEW = (600, 1000)\n",
    "\n",
    "#fname = '/notebooks/images/test_fcn/signs_2.jpeg'\n",
    "#IMAGE_SIZE_NEW = (293, 222)\n",
    "\n",
    "#fname = '/notebooks/images/test_fcn/signs_3.jpeg'\n",
    "#IMAGE_SIZE_NEW = (64, 64)\n",
    "\n",
    "#fname = '/notebooks/images/test_fcn/signs_5.jpeg'\n",
    "#IMAGE_SIZE_NEW = (576, 992)\n",
    "\n",
    "#fname = '/notebooks/images/test_fcn/signs_6.jpeg'\n",
    "#IMAGE_SIZE_NEW = (600, 1000)\n",
    "\n",
    "#fname = '/notebooks/images/test_fcn/signs_7.jpeg'\n",
    "#IMAGE_SIZE_NEW = (600, 1000)\n",
    "\n",
    "#fname = '/notebooks/images/test_fcn/signs_4.jpeg'\n",
    "#IMAGE_SIZE_NEW = (int(1770/5), int(2717/5))\n",
    "\n",
    "#fname = '/notebooks/images/test_fcn/2.png'\n",
    "#IMAGE_SIZE_NEW = (32, 32)\n",
    "\n",
    "#fname = '/notebooks/images/test_fcn/7.png'\n",
    "ll= 2\n",
    "fname = '/notebooks/images/test_fcn/10.png'\n",
    "#fname = '/notebooks/images/test_fcn/17.png'\n",
    "#fname = '/notebooks/images/test_fcn/35.png'\n",
    "#fname = '/notebooks/images/test_fcn/86.png'\n",
    "IMAGE_SIZE_NEW = (round(720/2), round(1280/2))\n",
    "\n",
    "\n",
    "#fname = '/notebooks/images/test_fcn/35x2.png'\n",
    "#ll = 40\n",
    "#IMAGE_SIZE_NEW = (40, 64)\n",
    "#fname = '/notebooks/images/test_fcn/35x3.png'\n",
    "#ll = 13\n",
    "#IMAGE_SIZE_NEW = (80, 120)\n",
    "fname = '/notebooks/images/test_fcn/86x.png'\n",
    "ll = 2\n",
    "IMAGE_SIZE_NEW = (64, 64)\n",
    "fname = '/notebooks/images/test_fcn/50_3.png'\n",
    "ll = 2\n",
    "IMAGE_SIZE_NEW = (64, 64)\n",
    "#fname = '/notebooks/images/test_fcn/35x.png'\n",
    "#ll = 13\n",
    "#IMAGE_SIZE_NEW = (304, 304)\n",
    "#fname = '/notebooks/images/test_fcn/333.png'\n",
    "#ll = 38\n",
    "#IMAGE_SIZE_NEW = (117, 117)\n",
    "\n",
    "#fname = '/notebooks/images/test_fcn/00034d.ppm'\n",
    "#IMAGE_SIZE_NEW = (190, 400)\n",
    "\n",
    "#fname = '/notebooks/images/test_fcn/00034.ppm'\n",
    "#IMAGE_SIZE_NEW = (36, 36)"
   ]
  },
  {
   "cell_type": "code",
   "execution_count": 385,
   "metadata": {},
   "outputs": [
    {
     "data": {
      "text/plain": [
       "<matplotlib.image.AxesImage at 0x7f72b6a47710>"
      ]
     },
     "execution_count": 385,
     "metadata": {},
     "output_type": "execute_result"
    },
    {
     "data": {
      "image/png": "[encoded data removed]",
      "text/plain": [
       "<matplotlib.figure.Figure at 0x7f72b6ac94e0>"
      ]
     },
     "metadata": {},
     "output_type": "display_data"
    }
   ],
   "source": [
    "import sys\n",
    "import scipy\n",
    "import skimage\n",
    "from skimage import io\n",
    "from skimage import transform\n",
    "from skimage.filters import gaussian\n",
    "\n",
    "import tensorflow as tf\n",
    "from keras.layers import Dense, Dropout, Flatten, merge\n",
    "from keras.layers import Convolution2D, MaxPooling2D\n",
    "from keras.utils import np_utils\n",
    "from keras.layers import Input, Dense\n",
    "from keras.models import Model\n",
    "from keras.optimizers import SGD\n",
    "from keras.models import model_from_json\n",
    "from keras.callbacks import LearningRateScheduler, ModelCheckpoint\n",
    "\n",
    "import my_mod_load as load\n",
    "import my_mod_manipulate_image as manipulate\n",
    "import numpy as np\n",
    "import settings\n",
    "\n",
    "\n",
    "from keras.models import Sequential\n",
    "from keras.layers.convolutional import Convolution2D\n",
    "from keras.engine import InputLayer\n",
    "import keras\n",
    "\n",
    "import matplotlib.pyplot as plt\n",
    "\n",
    "\n",
    "# load e normalizzazioen dell'immagine\n",
    "img = io.imread(fname)\n",
    "img = transform.resize(img, IMAGE_SIZE_NEW, order=3)\n",
    "img_original = img\n",
    "\n",
    "img = gaussian(img,.6,multichannel=True)*255\n",
    "img = manipulate.normalize_img(img.astype(np.uint8))\n",
    "img.shape = (1,) + img.shape\n",
    "\n",
    "# print dell'immagine originale\n",
    "plt.imshow(np.array(img_original.squeeze()))"
   ]
  },
  {
   "cell_type": "markdown",
   "metadata": {
    "scrolled": false
   },
   "source": [
    "\n",
    "def to_fully_conv(model):\n",
    "\n",
    "    new_model = Sequential()\n",
    "\n",
    "    input_layer = InputLayer(input_shape=(None, None, 1), name=\"input_new\")\n",
    "\n",
    "    new_model.add(input_layer)\n",
    "\n",
    "    for layer in model.layers:\n",
    "\n",
    "        if \"Flatten\" in str(layer):\n",
    "            flattened_ipt = True\n",
    "            f_dim = layer.input_shape\n",
    "            #print(\"flatten\")\n",
    "\n",
    "        elif \"Dense\" in str(layer):\n",
    "\n",
    "            input_shape = layer.input_shape\n",
    "            output_dim =  layer.get_weights()[1].shape[0]\n",
    "            W,b = layer.get_weights()\n",
    "\n",
    "            if flattened_ipt:\n",
    "                shape = (f_dim[1],f_dim[2],f_dim[3],output_dim)\n",
    "                new_W = W.reshape(shape)\n",
    "                #print(\"dimensioni nuovo kernel: \")\n",
    "                #print(f_dim[1])\n",
    "                #print(f_dim[2])\n",
    "                new_layer = Convolution2D(output_dim,\n",
    "                                          (f_dim[1],f_dim[2]),\n",
    "                                          strides=(1,1),\n",
    "                                          activation=layer.activation,\n",
    "                                          padding='valid',\n",
    "                                          weights=[new_W,b],\n",
    "                                          name=layer.name+\"_x\")\n",
    "                flattened_ipt = False\n",
    "\n",
    "            else:\n",
    "                shape = (1,1,input_shape[1],output_dim)\n",
    "                new_W = W.reshape(shape)\n",
    "                new_layer = Convolution2D(output_dim,\n",
    "                                          (1,1),\n",
    "                                          strides=(1, 1),\n",
    "                                          activation=layer.activation,\n",
    "                                          padding='valid',\n",
    "                                          weights=[new_W,b],\n",
    "                                          name=layer.name+\"_x\")\n",
    "\n",
    "\n",
    "        else:\n",
    "            new_layer = layer\n",
    "\n",
    "        #print(layer.name + \"   \" + new_layer.name)\n",
    "        new_model.add(new_layer)\n",
    "\n",
    "    return new_model\n",
    "\n"
   ]
  },
  {
   "cell_type": "code",
   "execution_count": 386,
   "metadata": {},
   "outputs": [],
   "source": [
    "model = '/notebooks/final_models/keras/2018-02-23_1203/model_108-108-100_ep40'\n",
    "# model = '/notebooks/final_models/keras/2018-02-24_1111/model_108-108-100_ep40'\n",
    "\n",
    "\n",
    "json_file = open(\"{}.json\".format(model), 'r')\n",
    "loaded_model_json = json_file.read()\n",
    "json_file.close()\n",
    "loaded_model = model_from_json(loaded_model_json)\n",
    "loaded_model.load_weights(\"{}.h5\".format(model))\n",
    "\n",
    "#loaded_model.summary()\n"
   ]
  },
  {
   "cell_type": "code",
   "execution_count": 387,
   "metadata": {},
   "outputs": [
    {
     "name": "stdout",
     "output_type": "stream",
     "text": [
      "(None, 5, 5, 108)\n",
      "(None, 2700)\n",
      "100\n",
      "(5, 5, 108, 100)\n",
      "dimensioni nuovo kernel: \n",
      "5\n",
      "5\n",
      "(None, 100)\n",
      "43\n"
     ]
    }
   ],
   "source": [
    "new_model = Sequential()\n",
    "input_layer = InputLayer(input_shape=(None, None, 1), name=\"input_new\")\n",
    "new_model.add(input_layer)\n",
    "\n",
    "new_model.add(loaded_model.get_layer(\"conv2d_1\"))\n",
    "new_model.add(loaded_model.get_layer(\"conv2d_2\"))\n",
    "new_model.add(loaded_model.get_layer(\"max_pooling2d_1\"))\n",
    "#new_model.add(loaded_model.get_layer(\"dropout_1\"))\n",
    "new_model.add(loaded_model.get_layer(\"conv2d_3\"))\n",
    "new_model.add(loaded_model.get_layer(\"conv2d_4\"))\n",
    "new_model.add(loaded_model.get_layer(\"max_pooling2d_3\"))\n",
    "#new_model.add(loaded_model.get_layer(\"dropout_2\"))\n",
    "\n",
    "# first dense layer\n",
    "flatten_layer = loaded_model.get_layer(\"flatten_1\")\n",
    "flatten_dim = flatten_layer.input_shape\n",
    "print(flatten_dim)\n",
    "\n",
    "dense_layer = loaded_model.get_layer(\"dense_1\")\n",
    "input_shape_dense = dense_layer.input_shape\n",
    "print(input_shape_dense)\n",
    "output_dim_dense =  dense_layer.get_weights()[1].shape[0]\n",
    "print(output_dim_dense)\n",
    "W, b = dense_layer.get_weights()\n",
    "shape = (flatten_dim[1], flatten_dim[2], flatten_dim[3], output_dim_dense)\n",
    "print(shape)\n",
    "new_W = W.reshape(shape)\n",
    "print(\"dimensioni nuovo kernel: \")\n",
    "print(flatten_dim[1])\n",
    "print(flatten_dim[2])\n",
    "new_layer = Convolution2D(output_dim_dense,\n",
    "                         (flatten_dim[1], flatten_dim[2]),\n",
    "                         strides=(1, 1),\n",
    "                         activation=dense_layer.activation,\n",
    "                         padding='valid',\n",
    "                         weights=[new_W, b],\n",
    "                         name=\"conv2d_x1\")\n",
    "new_model.add(new_layer)\n",
    "\n",
    "#new_model.add(loaded_model.get_layer(\"dropout_3\"))\n",
    "\n",
    "# second dense layer\n",
    "dense_layer = loaded_model.get_layer(\"dense_2\")\n",
    "input_shape_dense = dense_layer.input_shape\n",
    "print(input_shape_dense)\n",
    "output_dim_dense =  dense_layer.get_weights()[1].shape[0]\n",
    "print(output_dim_dense)\n",
    "W, b = dense_layer.get_weights()\n",
    "shape = (1, 1, input_shape_dense[1], output_dim_dense)\n",
    "new_W = W.reshape(shape)\n",
    "new_layer = Convolution2D(output_dim_dense,\n",
    "                          (1, 1),\n",
    "                          strides=(1, 1),\n",
    "                          activation=dense_layer.activation,\n",
    "                          padding='valid',\n",
    "                          weights=[new_W, b],\n",
    "                          name=\"conv2d_x2\")\n",
    "new_model.add(new_layer)\n",
    "\n",
    "#print(new_model.summary())"
   ]
  },
  {
   "cell_type": "code",
   "execution_count": 388,
   "metadata": {
    "scrolled": false
   },
   "outputs": [
    {
     "name": "stdout",
     "output_type": "stream",
     "text": [
      "dimensione dell'otuput\n",
      "(1, 9, 9, 43)\n"
     ]
    }
   ],
   "source": [
    "predicted_proba = new_model.predict(img)\n",
    "print(\"dimensione dell'otuput\")\n",
    "print(predicted_proba.shape)"
   ]
  },
  {
   "cell_type": "code",
   "execution_count": 389,
   "metadata": {},
   "outputs": [
    {
     "name": "stdout",
     "output_type": "stream",
     "text": [
      "dimensione immagine originale x,y e dimensione output x,y\n",
      "64\n",
      "64\n",
      "9\n",
      "9\n",
      "[[  0.    0.    0.    0.    0.2  15.    4.4   5.2   0. ]\n",
      " [  0.    0.    0.    0.1  48.7  69.2   2.7  20.    0. ]\n",
      " [  0.    0.    0.    0.    0.1   0.5   0.    0.2   0. ]\n",
      " [  0.    0.    0.    0.    0.    0.    0.    0.    0. ]\n",
      " [  0.    0.    0.    0.    0.    0.1   0.    0.    0. ]\n",
      " [  0.    0.    0.    0.    0.4   0.    0.    0.    0. ]\n",
      " [  0.    0.    0.    0.    0.    0.1   0.    0.    0. ]\n",
      " [  0.    0.    0.    0.    0.    0.    0.    0.    0. ]\n",
      " [  0.    0.    0.    0.    0.    0.    0.    0.    0. ]]\n"
     ]
    },
    {
     "data": {
      "image/png": "[encoded data removed]",
      "text/plain": [
       "<matplotlib.figure.Figure at 0x7f72b68005f8>"
      ]
     },
     "metadata": {},
     "output_type": "display_data"
    }
   ],
   "source": [
    "print(\"dimensione immagine originale x,y e dimensione output x,y\")\n",
    "\n",
    "print(IMAGE_SIZE_NEW[0])\n",
    "print(IMAGE_SIZE_NEW[1])\n",
    "num_1 = predicted_proba.shape[1]\n",
    "num_2 = predicted_proba.shape[2]\n",
    "print(num_1)\n",
    "print(num_2)\n",
    "\n",
    "original_matrix = [[0 for x in range(num_2)] for y in range(num_1)]\n",
    "m = 0\n",
    "for i in range(0, num_1):\n",
    "    for j in range(0, num_2):\n",
    "        #original_matrix[i][j] = i1\n",
    "        prob = round(predicted_proba[0][i][j][ll]*100, 1)\n",
    "        original_matrix[i][j] = prob\n",
    "#        if prob > min_prob:\n",
    "#            original_matrix[i][j] \n",
    "#        else:\n",
    "#            original_matrix[i][j] = -255\n",
    "#print(original_matrix)\n",
    "original_matrix = np.array(original_matrix)\n",
    "#original_matrix = np.ma.masked_where(original_matrix < 0, original_matrix)\n",
    "plt.imshow(original_matrix)\n",
    "print(original_matrix)"
   ]
  },
  {
   "cell_type": "code",
   "execution_count": 390,
   "metadata": {},
   "outputs": [
    {
     "data": {
      "text/plain": [
       "<matplotlib.image.AxesImage at 0x7f72b5f208d0>"
      ]
     },
     "execution_count": 390,
     "metadata": {},
     "output_type": "execute_result"
    },
    {
     "data": {
      "image/png": "[encoded data removed]",
      "text/plain": [
       "<matplotlib.figure.Figure at 0x7f72b6800908>"
      ]
     },
     "metadata": {},
     "output_type": "display_data"
    }
   ],
   "source": [
    "resized = scipy.ndimage.zoom(predicted_proba, (1,IMAGE_SIZE_NEW[0]/predicted_proba.shape[1],\n",
    "                                               IMAGE_SIZE_NEW[1]/predicted_proba.shape[2], 1), order=0)\n",
    "\n",
    "#print(predicted_proba)\n",
    "#print(resized.shape[2])\n",
    "num_1 = resized.shape[1]\n",
    "num_2 = resized.shape[2]\n",
    "new_matrix = [[0 for x in range(num_2)] for y in range(num_1)]\n",
    "m = 0\n",
    "for i in range(0, num_1):\n",
    "    for j in range(0, num_2):\n",
    "        #original_matrix[i][j] = i1\n",
    "        prob = round(resized[0][i][j][ll]*100, 1)\n",
    "        new_matrix[i][j] = prob\n",
    "#        if prob > min_prob:\n",
    "#            original_matrix[i][j] \n",
    "#        else:\n",
    "#            original_matrix[i][j] = -255\n",
    "#print(original_matrix)\n",
    "new_matrix = np.array(new_matrix)\n",
    "#original_matrix = np.ma.masked_where(original_matrix < 0, original_matrix)\n",
    "plt.imshow(new_matrix)\n",
    "#print(new_matrix)"
   ]
  },
  {
   "cell_type": "markdown",
   "metadata": {},
   "source": [
    "# it's height, width in TF - not width, height\n",
    "# new_height = int(round(224))\n",
    "# new_width = int(round(224))\n",
    "#\n",
    "# resized = tf.image.resize_images(predicted_proba, [new_height, new_width])\n",
    "# print(resized.shape)\n",
    "print(\"dimensione immagine originale x,y e dimensione output x,y\")\n",
    "\n",
    "print(IMAGE_SIZE_NEW[0])\n",
    "print(IMAGE_SIZE_NEW[1])\n",
    "num_1 = predicted_proba.shape[1]\n",
    "num_2 = predicted_proba.shape[2]\n",
    "print(num_1)\n",
    "print(num_2)\n",
    "\n",
    "resized = scipy.ndimage.zoom(predicted_proba, (1,IMAGE_SIZE_NEW[0]/predicted_proba.shape[1],\n",
    "                                               IMAGE_SIZE_NEW[1]/predicted_proba.shape[2], 1), order=0)\n",
    "#resized = scipy.ndimage.zoom(predicted_proba, (1,32,32,1), order=1)\n",
    "print(resized.shape)\n",
    "\n",
    "\n",
    "original_matrix = [[0 for x in range(num_2)] for y in range(num_1)]\n",
    "m = 0\n",
    "for i in range(0, num_1):\n",
    "    for j in range(0, num_2):\n",
    "        a = predicted_proba[0][i][j]\n",
    "        max_prob = max(a)\n",
    "        for i1, j1 in enumerate(a):\n",
    "             if j1 == max_prob:\n",
    "                #original_matrix[i][j] = i1\n",
    "                if max_prob >= min_prob:\n",
    "                    #print(\"{}       {}\".format(i1, max_prob))\n",
    "                    original_matrix[i][j] = i1\n",
    "                else:\n",
    "                    original_matrix[i][j] = -255\n",
    "                \n",
    "                \n",
    "                \n",
    "#print(predicted_proba)\n",
    "#print(resized.shape[2])\n",
    "num_1 = resized.shape[1]\n",
    "num_2 = resized.shape[2]\n",
    "new_matrix = [[0 for x in range(num_2)] for y in range(num_1)]\n",
    "m = 0\n",
    "for i in range(0, num_1):\n",
    "    for j in range(0, num_2):\n",
    "        a = resized[0][i][j]\n",
    "        max_prob = max(a)\n",
    "        for i1, j1 in enumerate(a):\n",
    "             if j1 == max_prob:\n",
    "                #new_matrix[i][j] = i1\n",
    "                if max_prob >= min_prob:\n",
    "                    new_matrix[i][j] = i1\n",
    "                else:\n",
    "                    new_matrix[i][j] = -255\n",
    "                    \n",
    "\n",
    "\n",
    "        # top1 = np.sort(resized[0][i][j])[42]\n",
    "        # if(top1 >= 0.8):\n",
    "        #     #print(top1)\n",
    "        #     m+=1"
   ]
  },
  {
   "cell_type": "markdown",
   "metadata": {},
   "source": [
    "# print(new_matrix)\n",
    "# from pylab import *\n",
    "# A = rand(5,5)\n",
    "#figure(1)\n",
    "new_matrix = np.array(new_matrix)\n",
    "new_matrix = np.ma.masked_where(new_matrix < 0, new_matrix)\n",
    "plt.imshow(new_matrix)\n",
    "#grid(True)"
   ]
  },
  {
   "cell_type": "markdown",
   "metadata": {},
   "source": [
    "original_matrix = np.array(original_matrix)\n",
    "original_matrix = np.ma.masked_where(original_matrix < 0, original_matrix)\n",
    "plt.imshow(original_matrix)"
   ]
  },
  {
   "cell_type": "markdown",
   "metadata": {
    "scrolled": false
   },
   "source": [
    "np.set_printoptions(threshold=np.nan)\n",
    "#print(original_matrix)"
   ]
  },
  {
   "cell_type": "code",
   "execution_count": 391,
   "metadata": {},
   "outputs": [],
   "source": [
    "#from collections import Counter\n",
    "#count = Counter(original_matrix)\n",
    "#Counter({'a': 2, 'c': 2, 'b': 1, 'd': 1})\n",
    "#count.most_common()\n",
    "#print(original_matrix)"
   ]
  },
  {
   "cell_type": "code",
   "execution_count": 392,
   "metadata": {},
   "outputs": [],
   "source": [
    "#new_matrix = np.array(new_matrix)\n",
    "#new_matrix = (new_matrix/255)\n",
    "#print(new_matrix[40])"
   ]
  },
  {
   "cell_type": "code",
   "execution_count": 396,
   "metadata": {},
   "outputs": [
    {
     "data": {
      "image/png": "[encoded data removed]",
      "text/plain": [
       "<matplotlib.figure.Figure at 0x7f72b5ca5198>"
      ]
     },
     "metadata": {},
     "output_type": "display_data"
    }
   ],
   "source": [
    "import numpy as np\n",
    "import matplotlib.pyplot as plt\n",
    "import matplotlib.cm as cm\n",
    "\n",
    "# Generate some data...\n",
    "#gray_data = np.arange(10000).reshape(100, 100)\n",
    "\n",
    "#masked_data = np.random.random(IMAGE_SIZE_NEW)\n",
    "\n",
    "masked_data = np.ma.masked_where(new_matrix < 0, new_matrix)\n",
    "#masked_data = np.dot(masked_data, 10)\n",
    "# Overlay the two images\n",
    "fig, ax = plt.subplots()\n",
    "ax.imshow(img_original, cmap=cm.gray)\n",
    "ax.imshow(masked_data, cmap=cm.jet, alpha=0.6)\n",
    "plt.show()"
   ]
  },
  {
   "cell_type": "markdown",
   "metadata": {},
   "source": [
    "labels = np.unique(original_matrix)\n",
    "for l in labels:\n",
    "    print(load.get_name_from_label(l))\n",
    "# print(np.unique(original_matrix))"
   ]
  }
 ],
 "metadata": {
  "kernelspec": {
   "display_name": "Python 3",
   "language": "python",
   "name": "python3"
  },
  "language_info": {
   "codemirror_mode": {
    "name": "ipython",
    "version": 3
   },
   "file_extension": ".py",
   "mimetype": "text/x-python",
   "name": "python",
   "nbconvert_exporter": "python",
   "pygments_lexer": "ipython3",
   "version": "3.6.2"
  }
 },
 "nbformat": 4,
 "nbformat_minor": 2
}
